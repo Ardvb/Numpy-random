{
 "cells": [
  {
   "cell_type": "markdown",
   "metadata": {},
   "source": [
    "# The numpy.random package"
   ]
  },
  {
   "cell_type": "markdown",
   "metadata": {},
   "source": [
    "### Programming for Data Analysis 2019"
   ]
  },
  {
   "cell_type": "markdown",
   "metadata": {},
   "source": [
    "![Image of Numpy](https://miro.medium.com/max/400/1*mc5YIn7jvo5uwuqBOUDw7Q.jpeg)"
   ]
  },
  {
   "cell_type": "markdown",
   "metadata": {},
   "source": [
    "Image: https://miro.medium.com/max/400/1*mc5YIn7jvo5uwuqBOUDw7Q.jpeg"
   ]
  },
  {
   "cell_type": "markdown",
   "metadata": {},
   "source": [
    "## Introduction: What is NumPy?"
   ]
  },
  {
   "cell_type": "markdown",
   "metadata": {},
   "source": [
    "NumPy (Numerical Python) is a library that is used for scientific computing in Python. An important part of NumPy is the NumPy array, which is a multidimensional data structure and is used to represent matrices en vectors.\n",
    "NumPy adds a huge deal to Python. Without it, programmers would have to resort to other programming languages (like R or Matlab) for some of the linear algebra problems NumPy deals with, as Python itself isn't very efficient.\n",
    "To give an example, when using numpy arrays, instead of python lists, to hold data, most programs will run a lot faster (even up to thousands of times faster for some programs).\n",
    "\n",
    "Numpy is also the core on which other popular packages, such as matplotlib, are build.\n",
    "\n",
    "To put it in my own words: Python makes programming user friendly, but when it comes to certain mathematical problems, NumPy enables Python to be even more efficient, and even easier to use."
   ]
  },
  {
   "cell_type": "markdown",
   "metadata": {},
   "source": [
    "## 1. The overall purpose of the numpy.random package"
   ]
  },
  {
   "cell_type": "markdown",
   "metadata": {},
   "source": [
    "The numpy.random package is a group of functions, that is used to generate arrays of (pseudo)random numbers in all shapes and forms. Random integers and floats can be generated, and shuffled or permuted in any way the user sees fit. Samples can be drawn from lots of different distributions. NumPy uses an algorithm called the Mersenne Twister to generate pseudorandom numbers. Generating (pseudo)random numbers is a vital part of any simulation and can be used to solve countless real world problems: from economics to the height of waves, and from gambling to the failure times of electronic components. The Numpy.random package makes it more efficient to simulate these things in Python."
   ]
  },
  {
   "cell_type": "code",
   "execution_count": 1,
   "metadata": {},
   "outputs": [],
   "source": [
    "# Import the packages we will be using\n",
    "import numpy as np # np is the conventional abbreviation for numpy\n",
    "import matplotlib.pyplot as plt # plt is the conventional abbreviaton for matplotlib.pyplot"
   ]
  },
  {
   "cell_type": "markdown",
   "metadata": {},
   "source": [
    "## 2. The use of the “Simple random data” and “Permutations” functions explained"
   ]
  },
  {
   "cell_type": "markdown",
   "metadata": {},
   "source": [
    "### Simple random data"
   ]
  },
  {
   "cell_type": "markdown",
   "metadata": {},
   "source": [
    "The simple random data function is used to generate random (I will call them random for now, but I will explain later they are actually pseudorandom) numbers. There are 10 different functions within the Simple random data module. However, not all of them are equally useful, and some of them outdated.  Below I will shortly explain and show some of the more useful commands contained in this module."
   ]
  },
  {
   "cell_type": "markdown",
   "metadata": {},
   "source": [
    "#### Numpy.random.rand"
   ]
  },
  {
   "cell_type": "markdown",
   "metadata": {},
   "source": [
    "The <em>rand</em> command returns an array with random floats (between 0 and 1), using the uniform distribution, where every float has the same odds of being selected."
   ]
  },
  {
   "cell_type": "code",
   "execution_count": 2,
   "metadata": {},
   "outputs": [
    {
     "data": {
      "text/plain": [
       "array([[0.80841609, 0.32973927, 0.27838623, 0.46322134],\n",
       "       [0.707333  , 0.50764146, 0.25075481, 0.98024216],\n",
       "       [0.47371297, 0.75656236, 0.4661504 , 0.81233185]])"
      ]
     },
     "execution_count": 2,
     "metadata": {},
     "output_type": "execute_result"
    }
   ],
   "source": [
    "# I used this website for an overview of all Simple random data options the package has to offer: https://docs.scipy.org/doc/numpy-1.14.0/reference/routines.random.html\n",
    "np.random.rand(3, 4) # Create an array of random floats between 0 and 1, with 3 columns and 4 rows."
   ]
  },
  {
   "cell_type": "markdown",
   "metadata": {},
   "source": [
    "#### Numpy.random.randn"
   ]
  },
  {
   "cell_type": "markdown",
   "metadata": {},
   "source": [
    "The <em>randn</em> command returns 1 or more arrays with random floats from the standard normal distrubution, of mean 0 and variance 1."
   ]
  },
  {
   "cell_type": "code",
   "execution_count": 3,
   "metadata": {},
   "outputs": [
    {
     "data": {
      "text/plain": [
       "array([[[ 0.18074083,  1.39293199,  1.4402993 ,  0.08942001],\n",
       "        [ 0.3263557 ,  0.44263316, -1.02221813,  0.5174886 ],\n",
       "        [-1.05352161,  1.13129185, -0.90767078,  1.27711189]],\n",
       "\n",
       "       [[ 0.29874289,  0.32419855, -2.54975366,  1.47548963],\n",
       "        [-1.06244153, -1.69953195, -1.1812174 ,  0.16359934],\n",
       "        [ 0.1633391 ,  1.35833111,  0.24200099, -0.30290885]]])"
      ]
     },
     "execution_count": 3,
     "metadata": {},
     "output_type": "execute_result"
    }
   ],
   "source": [
    "# I used this page to understand this command: https://docs.scipy.org/doc/numpy-1.14.0/reference/generated/numpy.random.randn.html#numpy.random.randn\n",
    "np.random.randn(2, 3, 4) # Create 2 arrays which consist of 3 columns and 4 rows with random numbers following the normal distribution."
   ]
  },
  {
   "cell_type": "markdown",
   "metadata": {},
   "source": [
    "Let's visualize the difference between the np.random.rand and the np.random.randn commands, by plotting them, using a histogram."
   ]
  },
  {
   "cell_type": "code",
   "execution_count": 4,
   "metadata": {},
   "outputs": [
    {
     "data": {
      "text/plain": [
       "(array([1018.,  962., 1045.,  998.,  999.,  962., 1016.,  994., 1020.,\n",
       "         986.]),\n",
       " array([6.54787936e-05, 1.00045856e-01, 2.00026234e-01, 3.00006611e-01,\n",
       "        3.99986988e-01, 4.99967366e-01, 5.99947743e-01, 6.99928121e-01,\n",
       "        7.99908498e-01, 8.99888875e-01, 9.99869253e-01]),\n",
       " <a list of 10 Patch objects>)"
      ]
     },
     "execution_count": 4,
     "metadata": {},
     "output_type": "execute_result"
    },
    {
     "data": {
      "image/png": "[encoded data removed]",
      "text/plain": [
       "<Figure size 432x288 with 1 Axes>"
      ]
     },
     "metadata": {
      "needs_background": "light"
     },
     "output_type": "display_data"
    }
   ],
   "source": [
    "# Link I used to learn more about histograms: https://www.datacamp.com/community/tutorials/histograms-matplotlib\n",
    "x = np.random.rand(10000) # creating a sample of 10000 random floats between 0 and 1\n",
    "plt.xlabel(\"Value\") # Display \"Value\" under the x-axis\n",
    "plt.ylabel(\"Frequency\") # Display \"Frequency\" next to the y-axis\n",
    "plt.title(\"np.random.rand histogram\") # Give the plot an appropriate title\n",
    "plt.hist(x) # Plot the histogram"
   ]
  },
  {
   "cell_type": "markdown",
   "metadata": {},
   "source": [
    "As you can see, using the uniform distribution, in combination with a big enough sample size, results in an evenly divided set of random numbers. Every even interval between 0 and 1 (eg. 0.1-0.2 and 0.5-0.6) has roughly the same amount of random numbers that were picked."
   ]
  },
  {
   "cell_type": "code",
   "execution_count": 5,
   "metadata": {},
   "outputs": [
    {
     "data": {
      "text/plain": [
       "(array([  8.,  15.,  54., 145., 209., 233., 182.,  98.,  41.,  15.]),\n",
       " array([-3.15945116, -2.56252965, -1.96560814, -1.36868663, -0.77176512,\n",
       "        -0.17484361,  0.4220779 ,  1.01899941,  1.61592092,  2.21284243,\n",
       "         2.80976394]),\n",
       " <a list of 10 Patch objects>)"
      ]
     },
     "execution_count": 5,
     "metadata": {},
     "output_type": "execute_result"
    },
    {
     "data": {
      "image/png": "[encoded data removed]",
      "text/plain": [
       "<Figure size 432x288 with 1 Axes>"
      ]
     },
     "metadata": {
      "needs_background": "light"
     },
     "output_type": "display_data"
    }
   ],
   "source": [
    "x = np.random.randn(1000) # Creating a sample of 1000 random floats with mean 0.\n",
    "plt.xlabel(\"Value\") # Display \"Value\" under the x-axis\n",
    "plt.ylabel(\"Frequency\") # Display \"Frequency\" next to the y-axis\n",
    "plt.title(\"np.random.randn histogram\") # Give the plot an appropriate title\n",
    "plt.hist(x) # Plot the histogram"
   ]
  },
  {
   "cell_type": "markdown",
   "metadata": {},
   "source": [
    "In this histogram the typical bell shape, that is associated with the normal distribution, can be seen. The numbers randomly selected are centered around the mean of 0, and get less likely the further away from 0."
   ]
  },
  {
   "cell_type": "markdown",
   "metadata": {},
   "source": [
    "Let's look at other ways to instantly show the difference between <em>rand</em> and <em>randn</em>"
   ]
  },
  {
   "cell_type": "code",
   "execution_count": 6,
   "metadata": {},
   "outputs": [
    {
     "data": {
      "image/png": "[encoded data removed]",
      "text/plain": [
       "<Figure size 432x288 with 1 Axes>"
      ]
     },
     "metadata": {
      "needs_background": "light"
     },
     "output_type": "display_data"
    }
   ],
   "source": [
    "x = np.random.rand(1000) # Run 1000 samples where a random number is generated between 0 and 1\n",
    "plt.plot(x, \"g.\") # Use green dots to show the random numbers\n",
    "plt.xlabel(\"Frequency\") # Give x-axis a title\n",
    "plt.ylabel(\"Value\") # Give y-axis a title\n",
    "plt.title(\"Rand\") # Give the plot a title\n",
    "plt.grid() # Show the grid lines"
   ]
  },
  {
   "cell_type": "code",
   "execution_count": 7,
   "metadata": {},
   "outputs": [
    {
     "data": {
      "image/png": "[encoded data removed]",
      "text/plain": [
       "<Figure size 432x288 with 1 Axes>"
      ]
     },
     "metadata": {
      "needs_background": "light"
     },
     "output_type": "display_data"
    }
   ],
   "source": [
    "x = np.random.randn(1000) # Run 1000 samples where a random number is generated between with mean 0\n",
    "plt.plot(x, \"m.\") # Use Magenta dots to show the random numbers\n",
    "plt.xlabel(\"Frequency\") # Give x-axis a title \n",
    "plt.ylabel(\"Value\") # Give y-axis a title\n",
    "plt.title(\"Randn\") # Give the plot a title\n",
    "plt.grid() # Show the grid lines"
   ]
  },
  {
   "cell_type": "markdown",
   "metadata": {},
   "source": [
    "As can be seen, the numbers picked after using the <em>randn</em> command, centre around the mean of 0, where the output of the <em>rand</em> command is evenly divided between 0 and 1."
   ]
  },
  {
   "cell_type": "code",
   "execution_count": 8,
   "metadata": {},
   "outputs": [
    {
     "data": {
      "image/png": "[encoded data removed]",
      "text/plain": [
       "<Figure size 432x288 with 1 Axes>"
      ]
     },
     "metadata": {
      "needs_background": "light"
     },
     "output_type": "display_data"
    }
   ],
   "source": [
    "a = np.random.rand(1000) # Creating a sample of 1000 random floats with mean 0.\n",
    "b = np.random.randn(1000) # Creating a sample of 1000 random floats with mean 0.\n",
    "plt.plot(a, \"g.\", label =\" Numbers generated using Rand\") # Plot a\n",
    "plt.plot(b, \"m.\", label =\" Numbers generated using Randn\") # Plot a\n",
    "plt.xlabel(\"Frequency\") # Give x-axis a title\n",
    "plt.ylabel(\"Value\") # Give y-axis a title\n",
    "plt.title(\"Rand and Randn compared\") # Give plot a title\n",
    "plt.legend( ) # Use a legend so it is clear what the different colours symbolize\n",
    "plt.grid() # Show grid lines\n"
   ]
  },
  {
   "cell_type": "markdown",
   "metadata": {},
   "source": [
    "#### Numpy.random.randint"
   ]
  },
  {
   "cell_type": "markdown",
   "metadata": {},
   "source": [
    "The <em>randint</em> command returns integers from low (inclusive), to high (exclusive). If there is no high value entered, then results are shown from 0 to low."
   ]
  },
  {
   "cell_type": "code",
   "execution_count": 9,
   "metadata": {},
   "outputs": [
    {
     "data": {
      "text/plain": [
       "array([9, 5, 8, 2, 1])"
      ]
     },
     "execution_count": 9,
     "metadata": {},
     "output_type": "execute_result"
    }
   ],
   "source": [
    "# I used this page for more information on this function: https://docs.scipy.org/doc/numpy-1.14.0/reference/generated/numpy.random.randint.html#numpy.random.randint\n",
    "np.random.randint(1, 10, size = 5)\n",
    "# Generate an array of 5 random integers, between 1 (inclusive) and 10 (exclusive)."
   ]
  },
  {
   "cell_type": "markdown",
   "metadata": {},
   "source": [
    "Another interesting use of <em>randint</em> could be to simulate 10000 throws of 2 dice, and calculate the sum of both. The results of this are shown in below histogram."
   ]
  },
  {
   "cell_type": "code",
   "execution_count": 10,
   "metadata": {
    "scrolled": false
   },
   "outputs": [
    {
     "data": {
      "text/plain": [
       "(array([ 238.,  581.,  817., 1083., 1429., 1625., 1356., 1153.,  869.,\n",
       "         558.,  291.]),\n",
       " array([ 1.5,  2.5,  3.5,  4.5,  5.5,  6.5,  7.5,  8.5,  9.5, 10.5, 11.5,\n",
       "        12.5]),\n",
       " <a list of 11 Patch objects>)"
      ]
     },
     "execution_count": 10,
     "metadata": {},
     "output_type": "execute_result"
    },
    {
     "data": {
      "image/png": "[encoded data removed]",
      "text/plain": [
       "<Figure size 432x288 with 1 Axes>"
      ]
     },
     "metadata": {
      "needs_background": "light"
     },
     "output_type": "display_data"
    }
   ],
   "source": [
    "dice1 = np.random.randint(1, 7, size = 10000) # generate a random number from 1 to 7 (not inclusive), and do that 10000 times\n",
    "dice2 = np.random.randint(1, 7, size = 10000) # generate a random number from 1 to 7 (not inclusive), and do that 10000 times\n",
    "dsums = dice1 + dice2 # create a variable that adds up the 2 generated random numbers\n",
    "bins = np.arange(2, dsums.max() + 1.5) - 0.5 # # The x-axis will run from 0 to the biggest value (+1.5) for dsums in the 10000 samples.\n",
    "# Then 0.5 is subtracted to get the bins centered on the integers, and make the histogram more readable\n",
    "plt.hist(dsums,bins)"
   ]
  },
  {
   "cell_type": "markdown",
   "metadata": {},
   "source": [
    "#### np.random.choice"
   ]
  },
  {
   "cell_type": "markdown",
   "metadata": {},
   "source": [
    "This command can be used to generate a non-uniform (where the odds of a value being selected differs) random sample, for different kinds of data, such as integers or strings. There are 4 possible variables that can be entered into the function. a = the array you want to use, size = the size of the output array, replace = whether you want to sample with replacement. This is a true or false value. p = the probability of each of the elements in the array."
   ]
  },
  {
   "cell_type": "code",
   "execution_count": 11,
   "metadata": {},
   "outputs": [
    {
     "data": {
      "text/plain": [
       "array([4, 5, 0, 5, 3, 0, 0, 5, 3, 0], dtype=int64)"
      ]
     },
     "execution_count": 11,
     "metadata": {},
     "output_type": "execute_result"
    }
   ],
   "source": [
    "# Generate a uniform random sample from np.arange(6) of size 10. The sums of the entered probabilities, p, have to add up to 1.\n",
    "# https://docs.scipy.org/doc/numpy-1.14.0/reference/generated/numpy.random.choice.html#numpy.random.choice\n",
    "np.random.choice(6, 10, p=[0.2, 0.1, 0.15, 0.25, 0.1, 0.2])"
   ]
  },
  {
   "cell_type": "markdown",
   "metadata": {},
   "source": [
    "The same can be done with another type of data, like a string"
   ]
  },
  {
   "cell_type": "code",
   "execution_count": 12,
   "metadata": {},
   "outputs": [
    {
     "data": {
      "text/plain": [
       "array(['Ride', 'Bicycle', 'Ride', 'I', 'I', 'I', 'To', 'Bicycle', 'My',\n",
       "       'Bicycle'], dtype='<U7')"
      ]
     },
     "execution_count": 12,
     "metadata": {},
     "output_type": "execute_result"
    }
   ],
   "source": [
    "# Create a string with values of my choice, called str1\n",
    "str1 = [\"I\", \"Want\", \"To\", \"Ride\", \"My\", \"Bicycle\"]\n",
    "np.random.choice(str1, 10, p= [0.24,0.2,0.2,0.14,0.1,0.12])"
   ]
  },
  {
   "cell_type": "markdown",
   "metadata": {},
   "source": [
    "Quick example of the use of the replace variable:"
   ]
  },
  {
   "cell_type": "code",
   "execution_count": 13,
   "metadata": {},
   "outputs": [
    {
     "data": {
      "text/plain": [
       "array(['Diamonds', 'Hearts', 'Spades', 'Clubs'], dtype='<U8')"
      ]
     },
     "execution_count": 13,
     "metadata": {},
     "output_type": "execute_result"
    }
   ],
   "source": [
    "# Took some inspiration from: https://www.sharpsightlabs.com/blog/numpy-random-choice/\n",
    "suits = [\"Hearts\", \"Spades\", \"Clubs\", \"Diamonds\"] # create an string-array of the 4 suits of a deck of cards\n",
    "np.random.choice(suits, 4, replace= False) # display is set to false, so once a suit is selected, it can't be selected again."
   ]
  },
  {
   "cell_type": "markdown",
   "metadata": {},
   "source": [
    "#### np.random.bytes"
   ]
  },
  {
   "cell_type": "markdown",
   "metadata": {},
   "source": [
    "This is a command that asks you to input how many random bytes you would like to be converted to a string. These kind of strings are often seen on internet links. Below is an example of random string, based on random bytes."
   ]
  },
  {
   "cell_type": "code",
   "execution_count": 14,
   "metadata": {},
   "outputs": [
    {
     "data": {
      "text/plain": [
       "b'5\\xd4\\x14\\x9b\\xe5\\xfe\\x13\\x15\\x13\\x83\\xe2)\\x9bE\\xc6\\xd2e\\xe6/\\xa3'"
      ]
     },
     "execution_count": 14,
     "metadata": {},
     "output_type": "execute_result"
    }
   ],
   "source": [
    "# https://docs.scipy.org/doc/numpy-1.14.0/reference/generated/numpy.random.bytes.html#numpy.random.bytes\n",
    "np.random.bytes(20)"
   ]
  },
  {
   "cell_type": "markdown",
   "metadata": {},
   "source": [
    "### Permutations"
   ]
  },
  {
   "cell_type": "markdown",
   "metadata": {},
   "source": [
    "The commands in this section can be used to change the particular order (permutation) of a set of data. "
   ]
  },
  {
   "cell_type": "markdown",
   "metadata": {},
   "source": [
    "#### Numpy.random.shuffle"
   ]
  },
  {
   "cell_type": "markdown",
   "metadata": {},
   "source": [
    "With this command you can shuffle the contents of an array. If used on a multi-dimensional array, only the order of sub-arrays is changed, not their contents. Below are 2 examples:"
   ]
  },
  {
   "cell_type": "code",
   "execution_count": 15,
   "metadata": {},
   "outputs": [
    {
     "data": {
      "text/plain": [
       "array([5, 0, 3, 2, 6, 4, 7, 1])"
      ]
     },
     "execution_count": 15,
     "metadata": {},
     "output_type": "execute_result"
    }
   ],
   "source": [
    "# https://docs.scipy.org/doc/numpy-1.14.0/reference/generated/numpy.random.shuffle.html#numpy.random.shuffle\n",
    "# Create an array called arrayshuf with 8 values. Then shuffle contents of array and display array.\n",
    "arrayshuf = np.arange(8)\n",
    "np.random.shuffle(arrayshuf)\n",
    "arrayshuf # display arrayshuf"
   ]
  },
  {
   "cell_type": "code",
   "execution_count": 16,
   "metadata": {},
   "outputs": [
    {
     "data": {
      "text/plain": [
       "array([[ 6,  7,  8],\n",
       "       [ 0,  1,  2],\n",
       "       [ 9, 10, 11],\n",
       "       [ 3,  4,  5]])"
      ]
     },
     "execution_count": 16,
     "metadata": {},
     "output_type": "execute_result"
    }
   ],
   "source": [
    "# Create a multidimensional array with 12 values\n",
    "arraymd = np.arange(12).reshape((4,3)) # 4 columns and 3 rows.\n",
    "np.random.shuffle(arraymd) \n",
    "arraymd #display arraymd"
   ]
  },
  {
   "cell_type": "markdown",
   "metadata": {},
   "source": [
    "The array \"arraymd\" consists of 4 sub-arrays of 3 numbers each. The contents of these sub-arrays are constant, but the order in which the sub-arrays are displayed is randomized."
   ]
  },
  {
   "cell_type": "markdown",
   "metadata": {},
   "source": [
    "#### Numpy.random.permutation"
   ]
  },
  {
   "cell_type": "markdown",
   "metadata": {},
   "source": [
    "This command is similar to the <em>shuffle</em> command, but besides an array, an integer can also be entered."
   ]
  },
  {
   "cell_type": "code",
   "execution_count": 17,
   "metadata": {},
   "outputs": [
    {
     "data": {
      "text/plain": [
       "array([ 9, 11,  4,  8, 13,  2,  7,  6,  5, 14,  0,  1,  3, 10, 12])"
      ]
     },
     "execution_count": 17,
     "metadata": {},
     "output_type": "execute_result"
    }
   ],
   "source": [
    "# I used this to learn about the numpy.random.permutation command: https://het.as.utexas.edu/HET/Software/Numpy/reference/generated/numpy.random.permutation.html\n",
    "np.random.permutation(15) # randomly permute x (15)"
   ]
  },
  {
   "cell_type": "markdown",
   "metadata": {},
   "source": [
    "## 3. The use and purpose of 5 \"Distributions\" functions explained"
   ]
  },
  {
   "cell_type": "markdown",
   "metadata": {},
   "source": [
    "### Binomial distribution"
   ]
  },
  {
   "cell_type": "markdown",
   "metadata": {},
   "source": [
    "The binomial distribution uses parameters <em>n</em> and <em>p</em>, and is used to calculate the number of successes in <em>n</em> independant experiments. It is a type of distribution that has two possible outcomes. The easiest example is a coin toss, which I will show below."
   ]
  },
  {
   "cell_type": "code",
   "execution_count": 18,
   "metadata": {},
   "outputs": [
    {
     "data": {
      "text/plain": [
       "0.17"
      ]
     },
     "execution_count": 18,
     "metadata": {},
     "output_type": "execute_result"
    }
   ],
   "source": [
    "# https://www.statisticshowto.datasciencecentral.com/probability-and-statistics/binomial-theorem/binomial-distribution-formula/\n",
    "# https://docs.scipy.org/doc/numpy-1.14.1/reference/generated/numpy.random.binomial.html#numpy.random.binomial\n",
    "# Using the np.random.binomial function to calculate the odds of at least 7 'heads' in a series of 10 coinflips.\n",
    "sum(np.random.binomial(10, 0.5, 10000) >6)/10000 # 10000 trials done, 10 flips with a 50/50 chance, and count how often more than 6 'heads' showed up.\n",
    "# As you can see, the chance is roughly 17 percent."
   ]
  },
  {
   "cell_type": "code",
   "execution_count": 19,
   "metadata": {},
   "outputs": [
    {
     "data": {
      "image/png": "[encoded data removed]",
      "text/plain": [
       "<Figure size 432x288 with 1 Axes>"
      ]
     },
     "metadata": {
      "needs_background": "light"
     },
     "output_type": "display_data"
    }
   ],
   "source": [
    "# Michael van Gerwen hits 35 percent of his darts in the bullseye, when aiming at it. How likely is he to hit x number of bullseyes?\n",
    "mvg = np.random.binomial(9, 0.35,10000)\n",
    "bins = np.arange(0, mvg.max() + 1.5) - 0.5 # The x-axis will run from 0 to the biggest value (+1.5) for mvg in the 10000 samples.\n",
    "# Then 0.5 is subtracted to get the bins centered on the integers, and make the histogram more readable.\n",
    "# Used https://stackoverflow.com/questions/30112420/histogram-for-discrete-values-with-matplotlib for help on this.\n",
    "plt.xlabel (\"Number of bullseyes hit\")\n",
    "plt.ylabel (\"Frequency\")\n",
    "plt.hist (mvg,bins) # Plot a histogram\n",
    "plt.grid()"
   ]
  },
  {
   "cell_type": "markdown",
   "metadata": {},
   "source": [
    "The above histogram shows 3 bullseyes is the most likely result, followed by 2 or 4."
   ]
  },
  {
   "cell_type": "code",
   "execution_count": 20,
   "metadata": {},
   "outputs": [
    {
     "data": {
      "text/plain": [
       "0.0192"
      ]
     },
     "execution_count": 20,
     "metadata": {},
     "output_type": "execute_result"
    }
   ],
   "source": [
    "# What are the odds he does not hit any bullseyes in 9 attempts?\n",
    "sum(np.random.binomial(9, 0.35, 10000) == 0)/10000 # Now I take the average of 10000 trials and display the odds.\n",
    "# It turns out the chance is close to 2 percent."
   ]
  },
  {
   "cell_type": "code",
   "execution_count": 21,
   "metadata": {},
   "outputs": [
    {
     "data": {
      "text/plain": [
       "0.2761"
      ]
     },
     "execution_count": 21,
     "metadata": {},
     "output_type": "execute_result"
    }
   ],
   "source": [
    "# And what are the odds of him hitting exactly 3 bullseyes in 9 attempts?\n",
    "sum(np.random.binomial(9, 0.35, 10000) == 3)/10000"
   ]
  },
  {
   "cell_type": "markdown",
   "metadata": {},
   "source": [
    "### Multinomial distribution"
   ]
  },
  {
   "cell_type": "markdown",
   "metadata": {},
   "source": [
    "This multinomial distribution is a multivariate generalisation of the binomial distribution (it uses more than 2 possible outcomes). Source: https://docs.scipy.org/doc/numpy-1.14.1/reference/generated/numpy.random.multinomial.html#numpy.random.multinomial\n",
    "A multinomial experiment needs to have four properties. It needs to consist of n trials, each trial has a discrete number of possible outcomes, the probability of the outcomes is constant, and the trials are independant.\n",
    "\n",
    "With this distribution you can easily get arrays of occurrences of multiple outcomes, which can then be used to calculate things further."
   ]
  },
  {
   "cell_type": "code",
   "execution_count": 22,
   "metadata": {},
   "outputs": [
    {
     "data": {
      "text/plain": [
       "array([109, 130,  61])"
      ]
     },
     "execution_count": 22,
     "metadata": {},
     "output_type": "execute_result"
    }
   ],
   "source": [
    "# Michael van Gerwen hits 35% of his darts he aims at the bullseye, 45% end up in the single bull, and 20% end up elsewhere.\n",
    "# He will throw 300 darts.\n",
    "bull = 0.35\n",
    "outerbull = 0.45\n",
    "outside = 0.2\n",
    "np.random.multinomial(300, [bull, outerbull, outside]) # 300 darts, respectively 35, 45 and 20 percent chance."
   ]
  },
  {
   "cell_type": "code",
   "execution_count": 23,
   "metadata": {},
   "outputs": [
    {
     "data": {
      "text/plain": [
       "([<matplotlib.patches.Wedge at 0x1cdf8cd9630>,\n",
       "  <matplotlib.patches.Wedge at 0x1cdf8cd9d68>,\n",
       "  <matplotlib.patches.Wedge at 0x1cdf8ce54a8>],\n",
       " [Text(0.6372092649517453, 0.8966405928016289, 'Bull'),\n",
       "  Text(-1.0682476944709525, -0.26238685801216266, 'Outer Bull'),\n",
       "  Text(0.8326946119128109, -0.718762605657371, 'Outside')],\n",
       " [Text(0.34756868997367923, 0.4890766869827066, '30.3%'),\n",
       "  Text(-0.5826805606205194, -0.1431201043702705, '47.0%'),\n",
       "  Text(0.45419706104335134, -0.39205233035856596, '22.7%')])"
      ]
     },
     "execution_count": 23,
     "metadata": {},
     "output_type": "execute_result"
    },
    {
     "data": {
      "image/png": "[encoded data removed]",
      "text/plain": [
       "<Figure size 432x288 with 1 Axes>"
      ]
     },
     "metadata": {},
     "output_type": "display_data"
    }
   ],
   "source": [
    "a = np.random.multinomial(300, [bull, outerbull, outside]) #learned about pie chart here: https://pythonspot.com/matplotlib-pie-chart/\n",
    "labels = \"Bull\", \"Outer Bull\", \"Outside\"\n",
    "plt.pie(a, labels=labels, autopct= \"%1.1f%%\")"
   ]
  },
  {
   "cell_type": "markdown",
   "metadata": {},
   "source": [
    "### Hypergeometric distribution"
   ]
  },
  {
   "cell_type": "markdown",
   "metadata": {},
   "source": [
    "The <em>numpy.random.hypergeometric</em> uses parameters ngood, nbad, nsample and size. Ngood is the number of ways to make a good selection, nbad the number of ways to make a bad selection. Nsample is the number of items sampled and size is the output shape. The difference with the binomial distribution is that the samples are drawn without replacement."
   ]
  },
  {
   "cell_type": "code",
   "execution_count": 24,
   "metadata": {},
   "outputs": [
    {
     "data": {
      "text/plain": [
       "(array([401., 420., 152.,  25.,   2.]),\n",
       " array([-0.5,  0.5,  1.5,  2.5,  3.5,  4.5]),\n",
       " <a list of 5 Patch objects>)"
      ]
     },
     "execution_count": 24,
     "metadata": {},
     "output_type": "execute_result"
    },
    {
     "data": {
      "image/png": "[encoded data removed]",
      "text/plain": [
       "<Figure size 432x288 with 1 Axes>"
      ]
     },
     "metadata": {
      "needs_background": "light"
     },
     "output_type": "display_data"
    }
   ],
   "source": [
    "# https://docs.scipy.org/doc/numpy-1.14.1/reference/generated/numpy.random.hypergeometric.html#numpy.random.hypergeometric\n",
    "# I am going to draw 10 cards from a standard deck, and want to know how often I am going to draw 0 aces, how often 1 ace etc.\n",
    "aces = np.random.hypergeometric(4,48,10, 1000) # ngood = 4 (all aces), nbad(all other cards)= 48, I am going to draw 10 cards, and use a 1000 samples.\n",
    "\n",
    "plt.xlabel(\"Amount of aces drawn, when drawing 10 random cards\") # Give x-axis a title\n",
    "plt.ylabel(\"Frequency\") # give y-axis a title\n",
    "bins = np.arange(0, aces.max() + 1.5) - 0.5 # Center bins on integers\n",
    "plt.hist (aces, bins) # plot the histogram"
   ]
  },
  {
   "cell_type": "markdown",
   "metadata": {},
   "source": [
    "As you can see from above histogram, 1 ace is the most likely, closely followed by no aces at all."
   ]
  },
  {
   "cell_type": "code",
   "execution_count": 25,
   "metadata": {},
   "outputs": [
    {
     "data": {
      "text/plain": [
       "0.18222"
      ]
     },
     "execution_count": 25,
     "metadata": {},
     "output_type": "execute_result"
    }
   ],
   "source": [
    "# In my hand I now have 2 aces, and I am going to draw 5 more cards.\n",
    "# I want to know what the odds are that exactly 1 of those cards is one of the 2 remaining aces.\n",
    "sum(np.random.hypergeometric(2,48,5,100000)==1)/100000 # 2 good cards, 48 bad ones, 5 cards drawn and 100000 samples. \n",
    "# Taking the average by dividing it by 100000 in the end. It turns out the chance is just over 18 percent."
   ]
  },
  {
   "cell_type": "markdown",
   "metadata": {},
   "source": [
    "### Poisson distribution"
   ]
  },
  {
   "cell_type": "markdown",
   "metadata": {},
   "source": [
    "The poisson distribution is mainly used to model the number of times an event occurs in an interval of time or space. The events have to occur with a know constant rate and independantly of the time since the last event. The <em>numpy.random.poisson</em> command takes 2 parameters. The first one being the expectation of interval and the second is the size."
   ]
  },
  {
   "cell_type": "markdown",
   "metadata": {},
   "source": [
    "I am going to use the poisson distribution to show the likeliness of <em>k</em> goals in a football match, with a goal expectancy of 2.5."
   ]
  },
  {
   "cell_type": "code",
   "execution_count": 26,
   "metadata": {},
   "outputs": [
    {
     "data": {
      "text/plain": [
       "(array([8.040e+02, 2.095e+03, 2.598e+03, 2.099e+03, 1.319e+03, 6.990e+02,\n",
       "        2.630e+02, 8.700e+01, 2.800e+01, 6.000e+00, 2.000e+00]),\n",
       " array([-0.5,  0.5,  1.5,  2.5,  3.5,  4.5,  5.5,  6.5,  7.5,  8.5,  9.5,\n",
       "        10.5]),\n",
       " <a list of 11 Patch objects>)"
      ]
     },
     "execution_count": 26,
     "metadata": {},
     "output_type": "execute_result"
    },
    {
     "data": {
      "image/png": "[encoded data removed]",
      "text/plain": [
       "<Figure size 432x288 with 1 Axes>"
      ]
     },
     "metadata": {
      "needs_background": "light"
     },
     "output_type": "display_data"
    }
   ],
   "source": [
    "# I used https://brilliant.org/wiki/poisson-distribution/ to learn about the poisson distribution\n",
    "ge = np.random.poisson(2.5, 10000) # goalexpectancy is 2.5, and I will draw 10000 samples.\n",
    "bins = np.arange(0, ge.max() + 1.5)-0.5 # # The x-axis will run from 0 to the biggest value (+1.5) for ge in the 10000 samples.\n",
    "# Then 0.5 is subtracted to get the bins centered on the integers, and make the histogram more readable. \n",
    "plt.hist(ge, bins) # Plot the histogram \n",
    "\n",
    "\n"
   ]
  },
  {
   "cell_type": "markdown",
   "metadata": {},
   "source": [
    "Another example of a real life application of the poisson distribution could be the amount of traffic on a given road.\n",
    "On this particular road there is an average of 12 cars per hour. Let's visualize the car expectancy per hour:"
   ]
  },
  {
   "cell_type": "code",
   "execution_count": 30,
   "metadata": {},
   "outputs": [
    {
     "data": {
      "text/plain": [
       "[<matplotlib.lines.Line2D at 0x1cdf8f54cf8>]"
      ]
     },
     "execution_count": 30,
     "metadata": {},
     "output_type": "execute_result"
    },
    {
     "data": {
      "image/png": "[encoded data removed]",
      "text/plain": [
       "<Figure size 432x288 with 1 Axes>"
      ]
     },
     "metadata": {
      "needs_background": "light"
     },
     "output_type": "display_data"
    }
   ],
   "source": [
    "plt.plot(np.random.poisson(12, 1000), \"g.\")"
   ]
  },
  {
   "cell_type": "markdown",
   "metadata": {},
   "source": [
    "### Geometric distribution"
   ]
  },
  {
   "cell_type": "markdown",
   "metadata": {},
   "source": [
    "The geometric distribution is used to model the number of trials (Bernoulli trials with either success or failure) that were needed until success was achieved. The command <em>numpy.random.geometric</em> takes two parameters: p, the probabilty of success in a single trial, and the size.\n"
   ]
  },
  {
   "cell_type": "markdown",
   "metadata": {},
   "source": [
    "I want to know, on average, how often I will have thrown at least 1 six, after 3 throws of the dice."
   ]
  },
  {
   "cell_type": "code",
   "execution_count": 28,
   "metadata": {},
   "outputs": [
    {
     "data": {
      "text/plain": [
       "(array([0.000e+00, 1.689e+03, 1.364e+03, 1.139e+03, 9.580e+02, 8.400e+02,\n",
       "        6.750e+02, 6.020e+02, 4.550e+02, 3.910e+02, 3.290e+02, 2.620e+02,\n",
       "        2.130e+02, 1.920e+02, 1.310e+02, 1.360e+02, 1.060e+02, 9.400e+01,\n",
       "        7.900e+01, 5.600e+01, 4.200e+01, 5.000e+01, 3.200e+01, 2.700e+01,\n",
       "        2.300e+01, 1.500e+01, 1.400e+01, 1.500e+01, 1.000e+01, 1.100e+01,\n",
       "        8.000e+00, 5.000e+00, 6.000e+00, 4.000e+00, 6.000e+00, 3.000e+00,\n",
       "        2.000e+00, 2.000e+00, 3.000e+00, 2.000e+00, 2.000e+00, 5.000e+00,\n",
       "        1.000e+00, 0.000e+00, 1.000e+00]),\n",
       " array([-0.5,  0.5,  1.5,  2.5,  3.5,  4.5,  5.5,  6.5,  7.5,  8.5,  9.5,\n",
       "        10.5, 11.5, 12.5, 13.5, 14.5, 15.5, 16.5, 17.5, 18.5, 19.5, 20.5,\n",
       "        21.5, 22.5, 23.5, 24.5, 25.5, 26.5, 27.5, 28.5, 29.5, 30.5, 31.5,\n",
       "        32.5, 33.5, 34.5, 35.5, 36.5, 37.5, 38.5, 39.5, 40.5, 41.5, 42.5,\n",
       "        43.5, 44.5]),\n",
       " <a list of 45 Patch objects>)"
      ]
     },
     "execution_count": 28,
     "metadata": {},
     "output_type": "execute_result"
    },
    {
     "data": {
      "image/png": "[encoded data removed]",
      "text/plain": [
       "<Figure size 432x288 with 1 Axes>"
      ]
     },
     "metadata": {
      "needs_background": "light"
     },
     "output_type": "display_data"
    }
   ],
   "source": [
    "dice6 = np.random.geometric(1/6, 10000)# 1/6 is the chance of a 6 being thrown, and I will draw 10000 samples. \n",
    "bins = np.arange(0, dice6.max() + 1.5)-0.5 # The x-axis will run from 0 to the biggest value (+1.5) for dice6 in the 10000 samples.\n",
    "# Then 0.5 is subtracted to get the bins centered on the integers, and make the histogram more readable.\n",
    "plt.hist(dice6, bins) # First, I am going to plot a histogram of the number of throws it took for a 6 to show up."
   ]
  },
  {
   "cell_type": "markdown",
   "metadata": {},
   "source": [
    "To get to the exact number, I again use the geometric distribution:"
   ]
  },
  {
   "cell_type": "code",
   "execution_count": null,
   "metadata": {},
   "outputs": [],
   "source": [
    "success = np.random.geometric(1/6, 10000) # I call throwing a 6 'success', with odds of 1/6, and will draw 10000 samples.\n",
    "(success < 4).sum() / 10000 # calculate the odds of 'success' being achieved in less than 4 throws of the dice. Count them all up and divide by 10000 to get the mean."
   ]
  },
  {
   "cell_type": "markdown",
   "metadata": {},
   "source": [
    "## 4. The use of seeds in generating pseudorandom numbers explained"
   ]
  },
  {
   "cell_type": "markdown",
   "metadata": {},
   "source": [
    "Computers are not able to generate a really random number. When we ask them to produce a random number, they really produce a pseudorandom number. These numbers aproximate randomness, but they are produced by a definite mathematical procedure. There is a key piece of information, and if you have that you would be able to predict the output of the <em>random</em> number generator. This piece of information is the seed. The seed is decided once, and depends on the time in microseconds. It could for instance be the moment you install your python package on your computer. One of the most popular ways of generating a pseudorandom number is to use the number Pi. Pi is an endless number, and there is periodical repetition. This means there is no pattern to the numbers in Pi. Therefore it is a useful tool in generating pseudorandom numbers. A computer could generate a series of pseudorandom numbers by picking a random point in the Pi sequence and start counting from there. This point is called the <em>seed</em>, the value that is fed into a pseudorandom number generator to start the process of 'random' number generating. If you know the seed, you could potentially predict the 'random' number or numbers the computer will pick. \n",
    "Random seeds can be generated for instance from the time of the computer system, or the variance in the noise of the fan.\n",
    "'Random' seeds can be shared between systems to generate matching sequences of non-repeating numbers, which can be used for synchronizing remote systems like GPS satellites. <em>Source: https://en.wikipedia.org/wiki/Random_seed\n",
    "https://web.microsoftstream.com/video/db596673-6d67-4d13-93c3-074728c693f2 </em>"
   ]
  },
  {
   "cell_type": "markdown",
   "metadata": {},
   "source": [
    "Below is an example to show that if the same seed is used, the 'random' selected numbers will also be the same."
   ]
  },
  {
   "cell_type": "code",
   "execution_count": null,
   "metadata": {},
   "outputs": [],
   "source": [
    "np.random.rand()"
   ]
  },
  {
   "cell_type": "code",
   "execution_count": null,
   "metadata": {},
   "outputs": [],
   "source": [
    "np.random.seed(567)\n",
    "np.random.rand()"
   ]
  },
  {
   "cell_type": "code",
   "execution_count": null,
   "metadata": {},
   "outputs": [],
   "source": [
    "np.random.seed(567)\n",
    "np.random.rand()"
   ]
  },
  {
   "cell_type": "code",
   "execution_count": null,
   "metadata": {},
   "outputs": [],
   "source": [
    "np.random.rand()"
   ]
  },
  {
   "cell_type": "markdown",
   "metadata": {},
   "source": [
    "As you can see, when just entering np.random.rand(), any number between 0 and 1 can be picked. But if the seed is provided, the exact same pseudorandom number will be displayed."
   ]
  },
  {
   "cell_type": "markdown",
   "metadata": {},
   "source": [
    "Sources used:\n",
    "\n",
    "1. https://stackoverflow.com/questions/32370281/how-to-embed-image-or-picture-in-jupyter-notebook-either-from-a-local-machine-o\n",
    "2. https://docs.scipy.org/doc/numpy-1.14.0/reference/routines.random.html\n",
    "3. https://docs.scipy.org/doc/numpy-1.14.0/reference/generated/numpy.random.randn.html#numpy.ran\n",
    "4. https://www.datacamp.com/community/tutorials/histograms-matplotlib\n",
    "5. https://docs.scipy.org/doc/numpy-1.14.0/reference/generated/numpy.random.randint.html#numpy.random.randint\n",
    "6. https://docs.scipy.org/doc/numpy-1.14.0/reference/generated/numpy.random.choice.html#numpy.random.choice\n",
    "7. https://www.sharpsightlabs.com/blog/numpy-random-choice/\n",
    "8. https://docs.scipy.org/doc/numpy-1.14.0/reference/generated/numpy.random.bytes.html#numpy.random.bytes\n",
    "9. https://docs.scipy.org/doc/numpy-1.14.0/reference/generated/numpy.random.shuffle.html#numpy.random.shuffle\n",
    "10. https://het.as.utexas.edu/HET/Software/Numpy/reference/generated/numpy.random.permutation.html\n",
    "11. https://www.statisticshowto.datasciencecentral.com/probability-and-statistics/binomial-theorem/binomial-distribution-formula/\n",
    "12. https://docs.scipy.org/doc/numpy-1.14.1/reference/generated/numpy.random.binomial.html#numpy.random.binomial\n",
    "13. https://stackoverflow.com/questions/30112420/histogram-for-discrete-values-with-matplotlib\n",
    "14. https://docs.scipy.org/doc/numpy-1.14.1/reference/generated/numpy.random.multinomial.html#numpy.random.multinomial \n",
    "15. https://pythonspot.com/matplotlib-pie-chart/\n",
    "16. https://docs.scipy.org/doc/numpy-1.14.1/reference/generated/numpy.random.hypergeometric.html#numpy.random.hypergeometric\n",
    "17. https://brilliant.org/wiki/poisson-distribution/\n",
    "18. https://www.statisticshowto.datasciencecentral.com/geometric-distribution/ \n",
    "19. https://en.wikipedia.org/wiki/Random_seed https://web.microsoftstream.com/video/db596673-6d67-4d13-93c3-074728c693f2\n",
    "20. https://miro.medium.com/max/400/1*mc5YIn7jvo5uwuqBOUDw7Q.jpeg\n",
    "21. https://web.microsoftstream.com/video/db596673-6d67-4d13-93c3-074728c693f2\n",
    "22. https://web.microsoftstream.com/video/d44d42fa-5b1a-4152-9d41-8129a3816001\n",
    "\n",
    "\n"
   ]
  }
 ],
 "metadata": {
  "kernelspec": {
   "display_name": "Python 3",
   "language": "python",
   "name": "python3"
  },
  "language_info": {
   "codemirror_mode": {
    "name": "ipython",
    "version": 3
   },
   "file_extension": ".py",
   "mimetype": "text/x-python",
   "name": "python",
   "nbconvert_exporter": "python",
   "pygments_lexer": "ipython3",
   "version": "3.7.1"
  }
 },
 "nbformat": 4,
 "nbformat_minor": 2
}
