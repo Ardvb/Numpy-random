{
 "cells": [
  {
   "cell_type": "markdown",
   "metadata": {},
   "source": [
    "# The numpy.random package"
   ]
  },
  {
   "cell_type": "markdown",
   "metadata": {},
   "source": [
    "### Programming for Data Analysis 2019"
   ]
  },
  {
   "cell_type": "markdown",
   "metadata": {},
   "source": [
    "## 1. The overall purpose of the numpy.random package"
   ]
  },
  {
   "cell_type": "markdown",
   "metadata": {},
   "source": [
    "NumPy (Numerical Python) is a library that is used for scientific computing in Python. It adds support for large 2D and 3D arrays and matrices. \n",
    "Numpy.random is a package .........................."
   ]
  },
  {
   "cell_type": "code",
   "execution_count": 1,
   "metadata": {},
   "outputs": [],
   "source": [
    "# Importing the packages we will be using\n",
    "import numpy as np\n",
    "import matplotlib.pyplot as plt"
   ]
  },
  {
   "cell_type": "markdown",
   "metadata": {},
   "source": [
    "## 2. The use of the “Simple random data” and “Permutations” functions explained"
   ]
  },
  {
   "cell_type": "markdown",
   "metadata": {},
   "source": [
    "### Simple random data"
   ]
  },
  {
   "cell_type": "markdown",
   "metadata": {},
   "source": [
    "The simple random data function is used to generate random (I will call them random for now, but I will explain later they are actually pseudorandom) numbers. There are 10 different functions within the Simple random data module. However, not all of them are equally useful.  Below I will shortly explain and show some of the more useful commands contained in this module."
   ]
  },
  {
   "cell_type": "code",
   "execution_count": 2,
   "metadata": {},
   "outputs": [
    {
     "data": {
      "text/plain": [
       "array([[0.19717103, 0.32904625, 0.63381225, 0.32862521],\n",
       "       [0.3388397 , 0.3921823 , 0.80606159, 0.72160718],\n",
       "       [0.95485452, 0.96085911, 0.21894559, 0.71500872]])"
      ]
     },
     "execution_count": 2,
     "metadata": {},
     "output_type": "execute_result"
    }
   ],
   "source": [
    "# Using the 'rand' command to return an array with random floats (between 0 and 1), using the uniform distribution. \n",
    "# In this case an array with 3 columns and 4 rows.\n",
    "# I used this website for an overview of all Simple random data options the package has to offer: https://docs.scipy.org/doc/numpy-1.14.0/reference/routines.random.html\n",
    "np.random.rand(3, 4)"
   ]
  },
  {
   "cell_type": "code",
   "execution_count": 3,
   "metadata": {},
   "outputs": [
    {
     "data": {
      "text/plain": [
       "array([[[-0.82353912, -0.25621708, -0.28540411,  1.15771076],\n",
       "        [ 0.96163239,  0.13103742, -1.60974602, -1.6741568 ],\n",
       "        [-0.81726682,  0.35495011,  0.28098512,  0.7775731 ]],\n",
       "\n",
       "       [[-0.8370832 , -0.3892664 , -2.90530797, -0.0739273 ],\n",
       "        [-0.51070147, -1.25292966,  0.05994319,  0.42634852],\n",
       "        [ 1.10630395, -0.41979234, -1.12581438,  2.23744914]]])"
      ]
     },
     "execution_count": 3,
     "metadata": {},
     "output_type": "execute_result"
    }
   ],
   "source": [
    "# Using the 'randn' function to return 1 or more arrays with random floats from the \"standard normal\" distribution,\n",
    "# of mean 0 and variance 1.\n",
    "# I used this page to understand this command: https://docs.scipy.org/doc/numpy-1.14.0/reference/generated/numpy.random.randn.html#numpy.random.randn\n",
    "np.random.randn(2, 3, 4)\n",
    "# 2 arrays which consist of 3 columns and 4 rows."
   ]
  },
  {
   "cell_type": "markdown",
   "metadata": {},
   "source": [
    "Let's visualize the difference between the np.random.rand and the np.random.randn commands, by plotting them, using a histogram."
   ]
  },
  {
   "cell_type": "code",
   "execution_count": 4,
   "metadata": {},
   "outputs": [],
   "source": [
    "x = np.random.rand(100000)\n",
    "y = np.random.randn(100000)"
   ]
  },
  {
   "cell_type": "code",
   "execution_count": 5,
   "metadata": {},
   "outputs": [
    {
     "data": {
      "text/plain": [
       "(array([10009.,  9955., 10118., 10111.,  9964.,  9919., 10065., 10114.,\n",
       "         9851.,  9894.]),\n",
       " array([1.82597719e-05, 1.00016117e-01, 2.00013973e-01, 3.00011830e-01,\n",
       "        4.00009687e-01, 5.00007544e-01, 6.00005400e-01, 7.00003257e-01,\n",
       "        8.00001114e-01, 8.99998971e-01, 9.99996828e-01]),\n",
       " <a list of 10 Patch objects>)"
      ]
     },
     "execution_count": 5,
     "metadata": {},
     "output_type": "execute_result"
    },
    {
     "data": {
      "image/png": "[encoded data removed]",
      "text/plain": [
       "<Figure size 432x288 with 1 Axes>"
      ]
     },
     "metadata": {
      "needs_background": "light"
     },
     "output_type": "display_data"
    }
   ],
   "source": [
    "# Link I used to learn more about histograms: https://www.datacamp.com/community/tutorials/histograms-matplotlib\n",
    "plt.xlabel(\"Value\")\n",
    "plt.ylabel(\"Frequency\")\n",
    "plt.title(\"np.random.rand histogram\")\n",
    "plt.hist(x)"
   ]
  },
  {
   "cell_type": "markdown",
   "metadata": {},
   "source": [
    "As you can see, using the uniform distribution, in combination with a big enough sample size, results in an evenly divided set of random numbers. Every even interval between 0 and 1 (eg. 0.1-0.2 and 0.5-0.6) has roughly the same amount of random numbers that were picked."
   ]
  },
  {
   "cell_type": "code",
   "execution_count": 6,
   "metadata": {},
   "outputs": [
    {
     "data": {
      "text/plain": [
       "(array([2.5000e+01, 7.1100e+02, 5.9740e+03, 2.1584e+04, 3.5391e+04,\n",
       "        2.6172e+04, 8.6900e+03, 1.3640e+03, 8.4000e+01, 5.0000e+00]),\n",
       " array([-4.24678114, -3.32617624, -2.40557133, -1.48496642, -0.56436151,\n",
       "         0.3562434 ,  1.2768483 ,  2.19745321,  3.11805812,  4.03866303,\n",
       "         4.95926793]),\n",
       " <a list of 10 Patch objects>)"
      ]
     },
     "execution_count": 6,
     "metadata": {},
     "output_type": "execute_result"
    },
    {
     "data": {
      "image/png": "[encoded data removed]",
      "text/plain": [
       "<Figure size 432x288 with 1 Axes>"
      ]
     },
     "metadata": {
      "needs_background": "light"
     },
     "output_type": "display_data"
    }
   ],
   "source": [
    "plt.xlabel(\"Value\")\n",
    "plt.ylabel(\"Frequency\")\n",
    "plt.title(\"np.random.randn histogram\")\n",
    "plt.hist(y)"
   ]
  },
  {
   "cell_type": "markdown",
   "metadata": {},
   "source": [
    "In this histogram the typical bell shape, that is associated with the normal distribution, can be seen. The numbers randomly selected are centered around the mean of 0, and get less likely the further away from 0."
   ]
  },
  {
   "cell_type": "code",
   "execution_count": 7,
   "metadata": {},
   "outputs": [
    {
     "data": {
      "text/plain": [
       "array([3, 2, 5, 7, 6])"
      ]
     },
     "execution_count": 7,
     "metadata": {},
     "output_type": "execute_result"
    }
   ],
   "source": [
    "# The 'randint' function returns integers from low (inclusive) to high (exclusive).\n",
    "# If there is no high value entered, then results are shown from 0 to 'low'.\n",
    "# I used this page for more information on this function: https://docs.scipy.org/doc/numpy-1.14.0/reference/generated/numpy.random.randint.html#numpy.random.randint\n",
    "np.random.randint(1, 10, size = 5)\n",
    "# Generate an array of 5 random integers, between 1 (inclusive) and 10 (exclusive)."
   ]
  },
  {
   "cell_type": "code",
   "execution_count": 8,
   "metadata": {},
   "outputs": [
    {
     "data": {
      "text/plain": [
       "array([0.35617421, 0.23500359, 0.46423667, 0.51795236, 0.77809507,\n",
       "       0.2832155 , 0.63512503, 0.02706548, 0.40117762, 0.48131797])"
      ]
     },
     "execution_count": 8,
     "metadata": {},
     "output_type": "execute_result"
    }
   ],
   "source": [
    "# \n",
    "np.random.random(size = 10)"
   ]
  },
  {
   "cell_type": "code",
   "execution_count": null,
   "metadata": {},
   "outputs": [],
   "source": []
  }
 ],
 "metadata": {
  "kernelspec": {
   "display_name": "Python 3",
   "language": "python",
   "name": "python3"
  },
  "language_info": {
   "codemirror_mode": {
    "name": "ipython",
    "version": 3
   },
   "file_extension": ".py",
   "mimetype": "text/x-python",
   "name": "python",
   "nbconvert_exporter": "python",
   "pygments_lexer": "ipython3",
   "version": "3.7.1"
  }
 },
 "nbformat": 4,
 "nbformat_minor": 2
}
