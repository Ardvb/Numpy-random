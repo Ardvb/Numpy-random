{
 "cells": [
  {
   "cell_type": "markdown",
   "metadata": {},
   "source": [
    "# The numpy.random package"
   ]
  },
  {
   "cell_type": "markdown",
   "metadata": {},
   "source": [
    "### Programming for Data Analysis 2019"
   ]
  },
  {
   "cell_type": "markdown",
   "metadata": {},
   "source": [
    "## 1. The overall purpose of the numpy.random package"
   ]
  },
  {
   "cell_type": "markdown",
   "metadata": {},
   "source": [
    "NumPy (Numerical Python) is a library that is used for scientific computing in Python. It adds support for large 2D and 3D arrays and matrices. \n",
    "Numpy.random is a package ..........................AANVULLEN!!!!!"
   ]
  },
  {
   "cell_type": "code",
   "execution_count": 1,
   "metadata": {},
   "outputs": [],
   "source": [
    "# Importing the packages we will be using\n",
    "import numpy as np\n",
    "import matplotlib.pyplot as plt"
   ]
  },
  {
   "cell_type": "markdown",
   "metadata": {},
   "source": [
    "## 2. The use of the “Simple random data” and “Permutations” functions explained"
   ]
  },
  {
   "cell_type": "markdown",
   "metadata": {},
   "source": [
    "### Simple random data"
   ]
  },
  {
   "cell_type": "markdown",
   "metadata": {},
   "source": [
    "The simple random data function is used to generate random (I will call them random for now, but I will explain later they are actually pseudorandom) numbers. There are 10 different functions within the Simple random data module. However, not all of them are equally useful.  Below I will shortly explain and show some of the more useful commands contained in this module."
   ]
  },
  {
   "cell_type": "markdown",
   "metadata": {},
   "source": [
    "#### Numpy.random.rand"
   ]
  },
  {
   "cell_type": "markdown",
   "metadata": {},
   "source": [
    "The <em>rand</em> command returns an array with random floats (between 0 and 1), using the uniform distribution, where every float has the same odds of being selected."
   ]
  },
  {
   "cell_type": "code",
   "execution_count": 2,
   "metadata": {},
   "outputs": [
    {
     "data": {
      "text/plain": [
       "array([[0.61643785, 0.04718052, 0.27275109, 0.45107426],\n",
       "       [0.04596634, 0.83334345, 0.42341356, 0.42093335],\n",
       "       [0.06932618, 0.25213019, 0.09647458, 0.29007981]])"
      ]
     },
     "execution_count": 2,
     "metadata": {},
     "output_type": "execute_result"
    }
   ],
   "source": [
    "# I used this website for an overview of all Simple random data options the package has to offer: https://docs.scipy.org/doc/numpy-1.14.0/reference/routines.random.html\n",
    "np.random.rand(3, 4) # Create an array of random floats between 0 and 1, with 3 columns and 4 rows."
   ]
  },
  {
   "cell_type": "markdown",
   "metadata": {},
   "source": [
    "#### Numpy.random.randn"
   ]
  },
  {
   "cell_type": "markdown",
   "metadata": {},
   "source": [
    "The <em>randn</em> command returns 1 or more arrays with random floats from the standard normal distrubution, of mean 0 and variance 1."
   ]
  },
  {
   "cell_type": "code",
   "execution_count": 3,
   "metadata": {},
   "outputs": [
    {
     "data": {
      "text/plain": [
       "array([[[-1.12423927e+00,  9.32002777e-02,  8.41125421e-01,\n",
       "         -9.09329914e-05],\n",
       "        [ 1.00544607e+00,  1.81954796e+00,  1.11156089e+00,\n",
       "         -6.04305964e-01],\n",
       "        [-2.20563911e-01,  1.09811419e+00,  5.29761253e-01,\n",
       "         -4.40918317e-01]],\n",
       "\n",
       "       [[ 3.18566236e-02, -2.88705371e-01, -1.38758084e+00,\n",
       "          1.17595970e+00],\n",
       "        [-1.36472529e+00,  5.98517083e-01, -1.15292843e+00,\n",
       "          5.62058802e-01],\n",
       "        [ 2.10119954e+00,  4.50329679e-01, -1.23382837e-01,\n",
       "          5.91761646e-01]]])"
      ]
     },
     "execution_count": 3,
     "metadata": {},
     "output_type": "execute_result"
    }
   ],
   "source": [
    "# I used this page to understand this command: https://docs.scipy.org/doc/numpy-1.14.0/reference/generated/numpy.random.randn.html#numpy.random.randn\n",
    "np.random.randn(2, 3, 4) # Create 2 arrays which consist of 3 columns and 4 rows with random numbers following the normal distribution."
   ]
  },
  {
   "cell_type": "markdown",
   "metadata": {},
   "source": [
    "Let's visualize the difference between the np.random.rand and the np.random.randn commands, by plotting them, using a histogram."
   ]
  },
  {
   "cell_type": "code",
   "execution_count": 4,
   "metadata": {},
   "outputs": [],
   "source": [
    "x = np.random.rand(100000)\n",
    "y = np.random.randn(100000)"
   ]
  },
  {
   "cell_type": "code",
   "execution_count": 5,
   "metadata": {},
   "outputs": [
    {
     "data": {
      "text/plain": [
       "(array([10017.,  9968., 10134.,  9923.,  9889.,  9836., 10085., 10110.,\n",
       "        10098.,  9940.]),\n",
       " array([6.93706725e-07, 9.99992575e-02, 1.99997821e-01, 2.99996385e-01,\n",
       "        3.99994949e-01, 4.99993512e-01, 5.99992076e-01, 6.99990640e-01,\n",
       "        7.99989204e-01, 8.99987767e-01, 9.99986331e-01]),\n",
       " <a list of 10 Patch objects>)"
      ]
     },
     "execution_count": 5,
     "metadata": {},
     "output_type": "execute_result"
    },
    {
     "data": {
      "image/png": "[encoded data removed]",
      "text/plain": [
       "<Figure size 432x288 with 1 Axes>"
      ]
     },
     "metadata": {
      "needs_background": "light"
     },
     "output_type": "display_data"
    }
   ],
   "source": [
    "# Link I used to learn more about histograms: https://www.datacamp.com/community/tutorials/histograms-matplotlib\n",
    "plt.xlabel(\"Value\")\n",
    "plt.ylabel(\"Frequency\")\n",
    "plt.title(\"np.random.rand histogram\")\n",
    "plt.hist(x)"
   ]
  },
  {
   "cell_type": "markdown",
   "metadata": {},
   "source": [
    "As you can see, using the uniform distribution, in combination with a big enough sample size, results in an evenly divided set of random numbers. Every even interval between 0 and 1 (eg. 0.1-0.2 and 0.5-0.6) has roughly the same amount of random numbers that were picked."
   ]
  },
  {
   "cell_type": "code",
   "execution_count": 6,
   "metadata": {},
   "outputs": [
    {
     "data": {
      "text/plain": [
       "(array([2.9000e+01, 4.8300e+02, 4.2920e+03, 1.7164e+04, 3.2494e+04,\n",
       "        2.9577e+04, 1.3014e+04, 2.6760e+03, 2.5800e+02, 1.3000e+01]),\n",
       " array([-4.31997295, -3.43430087, -2.54862878, -1.6629567 , -0.77728462,\n",
       "         0.10838747,  0.99405955,  1.87973163,  2.76540372,  3.6510758 ,\n",
       "         4.53674789]),\n",
       " <a list of 10 Patch objects>)"
      ]
     },
     "execution_count": 6,
     "metadata": {},
     "output_type": "execute_result"
    },
    {
     "data": {
      "image/png": "[encoded data removed]",
      "text/plain": [
       "<Figure size 432x288 with 1 Axes>"
      ]
     },
     "metadata": {
      "needs_background": "light"
     },
     "output_type": "display_data"
    }
   ],
   "source": [
    "plt.xlabel(\"Value\")\n",
    "plt.ylabel(\"Frequency\")\n",
    "plt.title(\"np.random.randn histogram\")\n",
    "plt.hist(y)"
   ]
  },
  {
   "cell_type": "markdown",
   "metadata": {},
   "source": [
    "In this histogram the typical bell shape, that is associated with the normal distribution, can be seen. The numbers randomly selected are centered around the mean of 0, and get less likely the further away from 0."
   ]
  },
  {
   "cell_type": "markdown",
   "metadata": {},
   "source": [
    "#### Numpy.random.randint"
   ]
  },
  {
   "cell_type": "markdown",
   "metadata": {},
   "source": [
    "The <em>randint</em> command returns integers from low (inclusive), to high (exclusive). If there is no high value entered, then results are shown from 0 to low."
   ]
  },
  {
   "cell_type": "code",
   "execution_count": 7,
   "metadata": {},
   "outputs": [
    {
     "data": {
      "text/plain": [
       "array([5, 3, 9, 4, 7])"
      ]
     },
     "execution_count": 7,
     "metadata": {},
     "output_type": "execute_result"
    }
   ],
   "source": [
    "# I used this page for more information on this function: https://docs.scipy.org/doc/numpy-1.14.0/reference/generated/numpy.random.randint.html#numpy.random.randint\n",
    "np.random.randint(1, 10, size = 5)\n",
    "# Generate an array of 5 random integers, between 1 (inclusive) and 10 (exclusive)."
   ]
  },
  {
   "cell_type": "markdown",
   "metadata": {},
   "source": [
    "Another interesting use of <em>randint</em> could be to simulate 10000 throws of 2 dice, and calculate the sum of both. The results of this are shown in below histogram."
   ]
  },
  {
   "cell_type": "code",
   "execution_count": 8,
   "metadata": {
    "scrolled": false
   },
   "outputs": [
    {
     "data": {
      "text/plain": [
       "(array([ 296.,  604.,  838., 1115., 1363., 1651., 1343., 1135.,  849.,\n",
       "         541.,  265.]),\n",
       " array([ 2.        ,  2.90909091,  3.81818182,  4.72727273,  5.63636364,\n",
       "         6.54545455,  7.45454545,  8.36363636,  9.27272727, 10.18181818,\n",
       "        11.09090909, 12.        ]),\n",
       " <a list of 11 Patch objects>)"
      ]
     },
     "execution_count": 8,
     "metadata": {},
     "output_type": "execute_result"
    },
    {
     "data": {
      "image/png": "[encoded data removed]",
      "text/plain": [
       "<Figure size 432x288 with 1 Axes>"
      ]
     },
     "metadata": {
      "needs_background": "light"
     },
     "output_type": "display_data"
    }
   ],
   "source": [
    "dice1 = np.random.randint(1, 7, size = 10000)\n",
    "dice2 = np.random.randint(1, 7, size = 10000)\n",
    "dsums = dice1 + dice2\n",
    "plt.hist(dsums,11)"
   ]
  },
  {
   "cell_type": "markdown",
   "metadata": {},
   "source": [
    "#### np.random.choice"
   ]
  },
  {
   "cell_type": "markdown",
   "metadata": {},
   "source": [
    "This command can be used to generate a non-uniform (where the odds of a value being selected differs) random sample, for different kinds of data, such as integers or strings. There are 4 possible variables that can be entered into the function. a = the array you want to use, size = the size of the output array, replace = whether you want to sample with replacement. This is a true or false value. p = the probability of each of the elements in the array."
   ]
  },
  {
   "cell_type": "code",
   "execution_count": 9,
   "metadata": {},
   "outputs": [
    {
     "data": {
      "text/plain": [
       "array([0, 1, 1, 3, 3, 5, 5, 3, 4, 1], dtype=int64)"
      ]
     },
     "execution_count": 9,
     "metadata": {},
     "output_type": "execute_result"
    }
   ],
   "source": [
    "# Generate a uniform random sample from np.arange(6) of size 10. The sums of the entered probabilities, p, have to add up to 1.\n",
    "# https://docs.scipy.org/doc/numpy-1.14.0/reference/generated/numpy.random.choice.html#numpy.random.choice\n",
    "np.random.choice(6, 10, p=[0.2, 0.1, 0.15, 0.25, 0.1, 0.2])"
   ]
  },
  {
   "cell_type": "markdown",
   "metadata": {},
   "source": [
    "The same can be done with another type of data, like a string"
   ]
  },
  {
   "cell_type": "code",
   "execution_count": 10,
   "metadata": {},
   "outputs": [
    {
     "data": {
      "text/plain": [
       "array(['Ride', 'My', 'Want', 'I', 'Want', 'My', 'My', 'Bicycle',\n",
       "       'Bicycle', 'Ride'], dtype='<U7')"
      ]
     },
     "execution_count": 10,
     "metadata": {},
     "output_type": "execute_result"
    }
   ],
   "source": [
    "# Create a string with values of my choice, called str1\n",
    "str1 = [\"I\", \"Want\", \"To\", \"Ride\", \"My\", \"Bicycle\"]\n",
    "np.random.choice(str1, 10, p= [0.24,0.2,0.2,0.14,0.1,0.12])"
   ]
  },
  {
   "cell_type": "markdown",
   "metadata": {},
   "source": [
    "Quick example of the use of the replace variable:"
   ]
  },
  {
   "cell_type": "code",
   "execution_count": 11,
   "metadata": {},
   "outputs": [
    {
     "data": {
      "text/plain": [
       "array(['Spades', 'Diamonds', 'Hearts', 'Clubs'], dtype='<U8')"
      ]
     },
     "execution_count": 11,
     "metadata": {},
     "output_type": "execute_result"
    }
   ],
   "source": [
    "# Took some inspiration from: https://www.sharpsightlabs.com/blog/numpy-random-choice/\n",
    "suits = [\"Hearts\", \"Spades\", \"Clubs\", \"Diamonds\"] # create an string-array of the 4 suits of a deck of cards\n",
    "np.random.choice(suits, 4, replace= False) # display is set to false, so once a suit is selected, it can't be selected again."
   ]
  },
  {
   "cell_type": "markdown",
   "metadata": {},
   "source": [
    "#### np.random.bytes"
   ]
  },
  {
   "cell_type": "markdown",
   "metadata": {},
   "source": [
    "This is a command that asks you to input how many random bytes you would like to be converted to a string. These kind of strings are often seen on internet links. Below is an example of random string, based on random bytes."
   ]
  },
  {
   "cell_type": "code",
   "execution_count": 12,
   "metadata": {},
   "outputs": [
    {
     "data": {
      "text/plain": [
       "b\"aF\\xe8\\x81|\\xfc'\\x8b\\x8c(\\xa5dM\\xda\\xec\\xc4\\r\\x9f\\x96\\xdb\""
      ]
     },
     "execution_count": 12,
     "metadata": {},
     "output_type": "execute_result"
    }
   ],
   "source": [
    "# https://docs.scipy.org/doc/numpy-1.14.0/reference/generated/numpy.random.bytes.html#numpy.random.bytes\n",
    "np.random.bytes(20)"
   ]
  },
  {
   "cell_type": "markdown",
   "metadata": {},
   "source": [
    "### Permutations"
   ]
  },
  {
   "cell_type": "markdown",
   "metadata": {},
   "source": [
    "#### Numpy.random.shuffle"
   ]
  },
  {
   "cell_type": "markdown",
   "metadata": {},
   "source": [
    "With this command you can shuffle the contents of an array. If used on a multi-dimensional array, only the order of sub-arrays is changed, not their contents. Below are 2 examples:"
   ]
  },
  {
   "cell_type": "code",
   "execution_count": 13,
   "metadata": {},
   "outputs": [
    {
     "data": {
      "text/plain": [
       "array([0, 5, 4, 6, 7, 2, 1, 3])"
      ]
     },
     "execution_count": 13,
     "metadata": {},
     "output_type": "execute_result"
    }
   ],
   "source": [
    "# https://docs.scipy.org/doc/numpy-1.14.0/reference/generated/numpy.random.shuffle.html#numpy.random.shuffle\n",
    "# Create an array called arrayshuf with 8 values. Then shuffle contents of array and display array.\n",
    "arrayshuf = np.arange(8)\n",
    "np.random.shuffle(arrayshuf)\n",
    "arrayshuf #display arrayshuf"
   ]
  },
  {
   "cell_type": "code",
   "execution_count": 14,
   "metadata": {},
   "outputs": [
    {
     "data": {
      "text/plain": [
       "array([[ 9, 10, 11],\n",
       "       [ 3,  4,  5],\n",
       "       [ 0,  1,  2],\n",
       "       [ 6,  7,  8]])"
      ]
     },
     "execution_count": 14,
     "metadata": {},
     "output_type": "execute_result"
    }
   ],
   "source": [
    "# Create a multidimensional array with 12 values\n",
    "arraymd = np.arange(12).reshape((4,3))\n",
    "np.random.shuffle(arraymd)\n",
    "arraymd #display arraymd"
   ]
  },
  {
   "cell_type": "markdown",
   "metadata": {},
   "source": [
    "The array \"arraymd\" consists of 4 sub-arrays of 3 numbers each. The contents of these sub-arrays are constant, but the order in which the sub-arrays are displayed is randomized."
   ]
  },
  {
   "cell_type": "markdown",
   "metadata": {},
   "source": [
    "#### Numpy.random.permutation"
   ]
  },
  {
   "cell_type": "markdown",
   "metadata": {},
   "source": [
    "This command is similar to the <em>shuffle</em> command, but besides an array, an integer can also be entered."
   ]
  },
  {
   "cell_type": "code",
   "execution_count": 15,
   "metadata": {},
   "outputs": [
    {
     "data": {
      "text/plain": [
       "array([ 7, 13, 12, 14,  0,  1,  8,  9,  6,  3,  2, 10, 11,  5,  4])"
      ]
     },
     "execution_count": 15,
     "metadata": {},
     "output_type": "execute_result"
    }
   ],
   "source": [
    "# I used this to learn about the numpy.random.permutation command: https://het.as.utexas.edu/HET/Software/Numpy/reference/generated/numpy.random.permutation.html\n",
    "np.random.permutation(15) # randomly permute x (15)"
   ]
  },
  {
   "cell_type": "markdown",
   "metadata": {},
   "source": [
    "## 3. The use and purpose of 5 \"Distributions\" functions explained"
   ]
  },
  {
   "cell_type": "markdown",
   "metadata": {},
   "source": [
    "### Binomial distribution"
   ]
  },
  {
   "cell_type": "markdown",
   "metadata": {},
   "source": [
    "The binomial distribution uses parameters <em>n</em> and <em>p</em>, and is used to calculate the number of successes in <em>n</em> independant experiments. It is a type of distribution that has two possible outcomes. The easiest example is a coin toss, which I will show below."
   ]
  },
  {
   "cell_type": "code",
   "execution_count": 16,
   "metadata": {},
   "outputs": [
    {
     "data": {
      "text/plain": [
       "0.1754"
      ]
     },
     "execution_count": 16,
     "metadata": {},
     "output_type": "execute_result"
    }
   ],
   "source": [
    "# https://www.statisticshowto.datasciencecentral.com/probability-and-statistics/binomial-theorem/binomial-distribution-formula/\n",
    "# https://docs.scipy.org/doc/numpy-1.14.1/reference/generated/numpy.random.binomial.html#numpy.random.binomial\n",
    "# Using the np.random.binomial function to calculate the odds of at least 7 'heads' in a series of 10 coinflips.\n",
    "sum(np.random.binomial(10, 0.5, 10000) >6)/10000 # 10000 trials done, and count how often more than 6 'heads' showed up.\n",
    "# As you can see, the chance is roughly 17 percent."
   ]
  },
  {
   "cell_type": "code",
   "execution_count": 17,
   "metadata": {},
   "outputs": [
    {
     "data": {
      "text/plain": [
       "(array([ 204.,  980., 2196., 2699., 2193., 1204.,  420.,   93.,   11.]),\n",
       " array([-0.5,  0.5,  1.5,  2.5,  3.5,  4.5,  5.5,  6.5,  7.5,  8.5]),\n",
       " <a list of 9 Patch objects>)"
      ]
     },
     "execution_count": 17,
     "metadata": {},
     "output_type": "execute_result"
    },
    {
     "data": {
      "image/png": "[encoded data removed]",
      "text/plain": [
       "<Figure size 432x288 with 1 Axes>"
      ]
     },
     "metadata": {
      "needs_background": "light"
     },
     "output_type": "display_data"
    }
   ],
   "source": [
    "# Michael van Gerwen hits 35 percent of his darts in the bullseye, when aiming at it. What are the odds he throws 9 darts and does not hit any?\n",
    "mvg = np.random.binomial(9, 0.35,10000)\n",
    "bins = np.arange(0, mvg.max() + 1.5) - 0.5 # # The x-axis will run from 0 to the biggest value (+1.5) for dice6 in the 10000 trials.\n",
    "# Then 0.5 is subtracted to get the bins centered on the integers, and make the histogram more readable.\n",
    "# Used https://stackoverflow.com/questions/30112420/histogram-for-discrete-values-with-matplotlib for help on this.\n",
    "plt.hist (mvg,bins) #plot the results"
   ]
  },
  {
   "cell_type": "code",
   "execution_count": 18,
   "metadata": {},
   "outputs": [
    {
     "data": {
      "text/plain": [
       "0.0178"
      ]
     },
     "execution_count": 18,
     "metadata": {},
     "output_type": "execute_result"
    }
   ],
   "source": [
    "sum(np.random.binomial(9, 0.35, 10000) == 0)/10000 #Now I take the average of 10000 trials and display the odds.\n",
    "# It turns out the chance is close to 2 percent."
   ]
  },
  {
   "cell_type": "markdown",
   "metadata": {},
   "source": [
    "### Multinomial distribution"
   ]
  },
  {
   "cell_type": "markdown",
   "metadata": {},
   "source": [
    "This multinomial distribution is a multivariate generalisation of the binomial distribution (it uses more than 2 possible outcomes). Source: https://docs.scipy.org/doc/numpy-1.14.1/reference/generated/numpy.random.multinomial.html#numpy.random.multinomial\n",
    "A multinomial experiment needs to have four properties. It needs to consist of n trials, each trial has a discrete number of possible outcomes, the probability of the outcomes is constant, and the trials are independant.\n",
    "\n",
    "With this distribution you can easily get array's of occurences of multiple outcomes, which can then be used to calculate things further."
   ]
  },
  {
   "cell_type": "code",
   "execution_count": 44,
   "metadata": {},
   "outputs": [
    {
     "data": {
      "text/plain": [
       "array([12, 14,  4])"
      ]
     },
     "execution_count": 44,
     "metadata": {},
     "output_type": "execute_result"
    }
   ],
   "source": [
    "# Michael van Gerwen hits 35% of his darts he aims at the bullseye, 45% end up in the single bull, and 20% end up elsewhere.\n",
    "# He will throw 30 darts.\n",
    "np.random.multinomial(30, [0.35, 0.45, 0.2]) # 30 darts, respectively 35, 45 and 20 percent chance."
   ]
  },
  {
   "cell_type": "markdown",
   "metadata": {},
   "source": [
    "### Hypergeometric distribution"
   ]
  },
  {
   "cell_type": "markdown",
   "metadata": {},
   "source": [
    "The <em>numpy.random.hypergeometric</em> uses parameters ngood, nbad, nsample and size. Ngood is the number of ways to make a good selection, nbad the number of ways to make a bad selection. Nsample is the number of items sampled and size is the output shape. The difference with the binomial distribution is that the samples are drawn without replacement."
   ]
  },
  {
   "cell_type": "code",
   "execution_count": 19,
   "metadata": {},
   "outputs": [
    {
     "data": {
      "text/plain": [
       "(array([  0.,   0.,   0.,   0.,   0.,   0.,   1.,  15., 149., 410., 425.]),\n",
       " array([-0.5,  0.5,  1.5,  2.5,  3.5,  4.5,  5.5,  6.5,  7.5,  8.5,  9.5,\n",
       "        10.5]),\n",
       " <a list of 11 Patch objects>)"
      ]
     },
     "execution_count": 19,
     "metadata": {},
     "output_type": "execute_result"
    },
    {
     "data": {
      "image/png": "[encoded data removed]",
      "text/plain": [
       "<Figure size 432x288 with 1 Axes>"
      ]
     },
     "metadata": {
      "needs_background": "light"
     },
     "output_type": "display_data"
    }
   ],
   "source": [
    "# https://docs.scipy.org/doc/numpy-1.14.1/reference/generated/numpy.random.hypergeometric.html#numpy.random.hypergeometric\n",
    "# I am going to draw 10 cards from a standard deck, and want to know how often I am going to draw, 0, 1, 2, 3 or all 4 aces.\n",
    "noqueen = np.random.hypergeometric(48,4,10, 1000) # ngood (all non-aces) = 48, nbad(the aces)= 4, I am going to draw 10 cards, and use a 1000 samples.\n",
    "bins = np.arange(0, noqueen.max() + 1.5) - 0.5 # # The x-axis will run from 0 to the biggest value (+1.5) for dice6 in the 10000 trials.\n",
    "# Then 0.5 is subtracted to get the bins centered on the integers, and make the histogram more readable.\n",
    "plt.hist (noqueen, bins)"
   ]
  },
  {
   "cell_type": "code",
   "execution_count": 20,
   "metadata": {},
   "outputs": [
    {
     "data": {
      "text/plain": [
       "0.18511"
      ]
     },
     "execution_count": 20,
     "metadata": {},
     "output_type": "execute_result"
    }
   ],
   "source": [
    "# In my hand I now have 2 aces, and I am going to draw 5 more cards.\n",
    "# I want to know what the odds are that exactly 1 of those cards is one of the 2 remaining aces.\n",
    "sum(np.random.hypergeometric(2,48,5,100000)==1)/100000 #2 good cards, 48 bad ones, 5 cards drawn and 10000 samples. \n",
    "# Taking the average by dividing it by 100000 in the end. It turns out the chance is just over 18 percent."
   ]
  },
  {
   "cell_type": "markdown",
   "metadata": {},
   "source": [
    "### Poisson distribution"
   ]
  },
  {
   "cell_type": "markdown",
   "metadata": {},
   "source": [
    "The poisson distribution is mainly used to model the number of times an event occurs in an interval of time or space. The events have to occur with a know constant rate and independantly of the time since the last event. The <em>numpy.random.poisson</em> command takes 2 parameters. The first one being the expectation of interval and the second is the size."
   ]
  },
  {
   "cell_type": "markdown",
   "metadata": {},
   "source": [
    "I am going to use the poisson distribution to show the likeliness of <em>k</em> goals in a football match, with a goal expectancy of 2.5."
   ]
  },
  {
   "cell_type": "code",
   "execution_count": 21,
   "metadata": {},
   "outputs": [
    {
     "data": {
      "text/plain": [
       "(array([9.030e+02, 1.992e+03, 2.475e+03, 2.176e+03, 1.365e+03, 6.490e+02,\n",
       "        2.970e+02, 1.120e+02, 2.600e+01, 4.000e+00, 1.000e+00]),\n",
       " array([-0.5,  0.5,  1.5,  2.5,  3.5,  4.5,  5.5,  6.5,  7.5,  8.5,  9.5,\n",
       "        10.5]),\n",
       " <a list of 11 Patch objects>)"
      ]
     },
     "execution_count": 21,
     "metadata": {},
     "output_type": "execute_result"
    },
    {
     "data": {
      "image/png": "[encoded data removed]",
      "text/plain": [
       "<Figure size 432x288 with 1 Axes>"
      ]
     },
     "metadata": {
      "needs_background": "light"
     },
     "output_type": "display_data"
    }
   ],
   "source": [
    "# I used https://brilliant.org/wiki/poisson-distribution/ to learn about the poisson distribution\n",
    "ge = np.random.poisson(2.5, 10000) # goalexpectancy is 2.5, and I will draw 10000 samples.\n",
    "bins = np.arange(0, ge.max() + 1.5)-0.5 # # The x-axis will run from 0 to the biggest value (+1.5) for dice6 in the 10000 trials.\n",
    "# Then 0.5 is subtracted to get the bins centered on the integers, and make the histogram more readable. \n",
    "plt.hist(ge, bins)\n",
    "\n",
    "\n"
   ]
  },
  {
   "cell_type": "markdown",
   "metadata": {},
   "source": [
    "### Geometric distribution"
   ]
  },
  {
   "cell_type": "markdown",
   "metadata": {},
   "source": [
    "The geometric distribution is used to model the number of trials (Bernoulli trials with either success or failure) that were needed until success was achieved. The command <em>numpy.random.geometric</em> takes two parameters: p, the probabilty of success in a single trial, and the size.\n",
    "\n",
    "LINK: https://www.statisticshowto.datasciencecentral.com/geometric-distribution/  Onderaan zetten!"
   ]
  },
  {
   "cell_type": "markdown",
   "metadata": {},
   "source": [
    "I want to know, on average, how often I will have thrown at least 1 six, after 3 throws of the dice."
   ]
  },
  {
   "cell_type": "code",
   "execution_count": 26,
   "metadata": {},
   "outputs": [
    {
     "data": {
      "text/plain": [
       "(array([0.000e+00, 1.658e+03, 1.387e+03, 1.118e+03, 9.720e+02, 8.520e+02,\n",
       "        6.610e+02, 5.210e+02, 4.830e+02, 4.080e+02, 2.970e+02, 2.670e+02,\n",
       "        2.130e+02, 1.890e+02, 1.640e+02, 1.140e+02, 1.170e+02, 9.800e+01,\n",
       "        7.900e+01, 6.200e+01, 4.300e+01, 4.800e+01, 3.200e+01, 4.000e+01,\n",
       "        2.200e+01, 3.200e+01, 1.800e+01, 1.100e+01, 1.300e+01, 1.500e+01,\n",
       "        1.300e+01, 8.000e+00, 8.000e+00, 4.000e+00, 3.000e+00, 6.000e+00,\n",
       "        4.000e+00, 5.000e+00, 3.000e+00, 0.000e+00, 6.000e+00, 3.000e+00,\n",
       "        1.000e+00, 0.000e+00, 0.000e+00, 1.000e+00, 0.000e+00, 0.000e+00,\n",
       "        0.000e+00, 0.000e+00, 1.000e+00]),\n",
       " array([-0.5,  0.5,  1.5,  2.5,  3.5,  4.5,  5.5,  6.5,  7.5,  8.5,  9.5,\n",
       "        10.5, 11.5, 12.5, 13.5, 14.5, 15.5, 16.5, 17.5, 18.5, 19.5, 20.5,\n",
       "        21.5, 22.5, 23.5, 24.5, 25.5, 26.5, 27.5, 28.5, 29.5, 30.5, 31.5,\n",
       "        32.5, 33.5, 34.5, 35.5, 36.5, 37.5, 38.5, 39.5, 40.5, 41.5, 42.5,\n",
       "        43.5, 44.5, 45.5, 46.5, 47.5, 48.5, 49.5, 50.5]),\n",
       " <a list of 51 Patch objects>)"
      ]
     },
     "execution_count": 26,
     "metadata": {},
     "output_type": "execute_result"
    },
    {
     "data": {
      "image/png": "[encoded data removed]",
      "text/plain": [
       "<Figure size 432x288 with 1 Axes>"
      ]
     },
     "metadata": {
      "needs_background": "light"
     },
     "output_type": "display_data"
    }
   ],
   "source": [
    "dice6 = np.random.geometric(1/6, 10000)# 1/6 is the chance of a 6 being thrown, and I will draw 10000 samples. \n",
    "bins = np.arange(0, dice6.max() + 1.5)-0.5 # The x-axis will run from 0 to the biggest value (+1.5) for dice6 in the 10000 trials.\n",
    "# Then 0.5 is subtracted to get the bins centered on the integers, and make the histogram more readable.\n",
    "plt.hist(dice6, bins) # First, I am going to plot a histogram of the number of throws it took for a 6 to show up."
   ]
  },
  {
   "cell_type": "markdown",
   "metadata": {},
   "source": [
    "To get to the exact number, I again use the geometric distribution:"
   ]
  },
  {
   "cell_type": "code",
   "execution_count": 37,
   "metadata": {},
   "outputs": [
    {
     "data": {
      "text/plain": [
       "0.421"
      ]
     },
     "execution_count": 37,
     "metadata": {},
     "output_type": "execute_result"
    }
   ],
   "source": [
    "success = np.random.geometric(1/6, 10000) # I call throwing a 6 'success', with odds of 1/6, and will draw 10000 samples.\n",
    "(success < 4).sum() / 10000 # calculate the odds of 'success' being achieved in less than 4 throws of the dice. Count them all up and divide by 10000 to get the mean."
   ]
  },
  {
   "cell_type": "markdown",
   "metadata": {},
   "source": [
    "## 4. The use of seeds in generating pseudorandom numbers explained"
   ]
  },
  {
   "cell_type": "code",
   "execution_count": null,
   "metadata": {},
   "outputs": [],
   "source": []
  }
 ],
 "metadata": {
  "kernelspec": {
   "display_name": "Python 3",
   "language": "python",
   "name": "python3"
  },
  "language_info": {
   "codemirror_mode": {
    "name": "ipython",
    "version": 3
   },
   "file_extension": ".py",
   "mimetype": "text/x-python",
   "name": "python",
   "nbconvert_exporter": "python",
   "pygments_lexer": "ipython3",
   "version": "3.7.1"
  }
 },
 "nbformat": 4,
 "nbformat_minor": 2
}
