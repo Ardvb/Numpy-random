{
 "cells": [
  {
   "cell_type": "markdown",
   "metadata": {},
   "source": [
    "# The numpy.random package"
   ]
  },
  {
   "cell_type": "markdown",
   "metadata": {},
   "source": [
    "### Programming for Data Analysis 2019"
   ]
  },
  {
   "cell_type": "markdown",
   "metadata": {},
   "source": [
    "## 1. The overall purpose of the numpy.random package"
   ]
  },
  {
   "cell_type": "markdown",
   "metadata": {},
   "source": [
    "NumPy (Numerical Python) is a library that is used for scientific computing in Python. It adds support for large 2D and 3D arrays and matrices. \n",
    "Numpy.random is a package ..........................AANVULLEN!!!!!"
   ]
  },
  {
   "cell_type": "code",
   "execution_count": 1,
   "metadata": {},
   "outputs": [],
   "source": [
    "# Importing the packages we will be using\n",
    "import numpy as np\n",
    "import matplotlib.pyplot as plt"
   ]
  },
  {
   "cell_type": "markdown",
   "metadata": {},
   "source": [
    "## 2. The use of the “Simple random data” and “Permutations” functions explained"
   ]
  },
  {
   "cell_type": "markdown",
   "metadata": {},
   "source": [
    "### Simple random data"
   ]
  },
  {
   "cell_type": "markdown",
   "metadata": {},
   "source": [
    "The simple random data function is used to generate random (I will call them random for now, but I will explain later they are actually pseudorandom) numbers. There are 10 different functions within the Simple random data module. However, not all of them are equally useful.  Below I will shortly explain and show some of the more useful commands contained in this module."
   ]
  },
  {
   "cell_type": "markdown",
   "metadata": {},
   "source": [
    "#### Numpy.random.rand"
   ]
  },
  {
   "cell_type": "markdown",
   "metadata": {},
   "source": [
    "The <em>rand</em> command returns an array with random floats (between 0 and 1), using the uniform distribution, where every float has the same odds of being selected."
   ]
  },
  {
   "cell_type": "code",
   "execution_count": 2,
   "metadata": {},
   "outputs": [
    {
     "data": {
      "text/plain": [
       "array([[0.08236843, 0.08300213, 0.88486315, 0.50021887],\n",
       "       [0.70578774, 0.11764976, 0.3444264 , 0.03401023],\n",
       "       [0.18494236, 0.31052179, 0.74886204, 0.89729149]])"
      ]
     },
     "execution_count": 2,
     "metadata": {},
     "output_type": "execute_result"
    }
   ],
   "source": [
    "# I used this website for an overview of all Simple random data options the package has to offer: https://docs.scipy.org/doc/numpy-1.14.0/reference/routines.random.html\n",
    "np.random.rand(3, 4) # Create an array of random floats between 0 and 1, with 3 columns and 4 rows."
   ]
  },
  {
   "cell_type": "markdown",
   "metadata": {},
   "source": [
    "#### Numpy.random.randn"
   ]
  },
  {
   "cell_type": "markdown",
   "metadata": {},
   "source": [
    "The <em>randn</em> command returns 1 or more arrays with random floats from the standard normal distrubution, of mean 0 and variance 1."
   ]
  },
  {
   "cell_type": "code",
   "execution_count": 3,
   "metadata": {},
   "outputs": [
    {
     "data": {
      "text/plain": [
       "array([[[ 1.76464289, -0.96848984,  0.80841568,  0.42147708],\n",
       "        [-0.30261331, -0.53704775, -0.56190464,  0.24416547],\n",
       "        [-0.38298543,  0.2679088 ,  1.25684197,  0.10197294]],\n",
       "\n",
       "       [[ 0.19185752, -0.58039035,  0.40836825,  0.77812679],\n",
       "        [-0.03420307,  0.65132722,  1.22315267, -0.88741327],\n",
       "        [ 1.44803101, -0.98378635, -1.93905644, -0.98629598]]])"
      ]
     },
     "execution_count": 3,
     "metadata": {},
     "output_type": "execute_result"
    }
   ],
   "source": [
    "# I used this page to understand this command: https://docs.scipy.org/doc/numpy-1.14.0/reference/generated/numpy.random.randn.html#numpy.random.randn\n",
    "np.random.randn(2, 3, 4) # Create 2 arrays which consist of 3 columns and 4 rows with random numbers following the normal distribution."
   ]
  },
  {
   "cell_type": "markdown",
   "metadata": {},
   "source": [
    "Let's visualize the difference between the np.random.rand and the np.random.randn commands, by plotting them, using a histogram."
   ]
  },
  {
   "cell_type": "code",
   "execution_count": 4,
   "metadata": {},
   "outputs": [],
   "source": [
    "x = np.random.rand(100000)\n",
    "y = np.random.randn(100000)"
   ]
  },
  {
   "cell_type": "code",
   "execution_count": 5,
   "metadata": {},
   "outputs": [
    {
     "data": {
      "text/plain": [
       "(array([ 9979., 10120., 10028., 10045., 10039.,  9986.,  9944.,  9992.,\n",
       "         9893.,  9974.]),\n",
       " array([2.48904786e-06, 1.00002063e-01, 2.00001637e-01, 3.00001211e-01,\n",
       "        4.00000785e-01, 5.00000360e-01, 5.99999934e-01, 6.99999508e-01,\n",
       "        7.99999082e-01, 8.99998656e-01, 9.99998230e-01]),\n",
       " <a list of 10 Patch objects>)"
      ]
     },
     "execution_count": 5,
     "metadata": {},
     "output_type": "execute_result"
    },
    {
     "data": {
      "image/png": "[encoded data removed]",
      "text/plain": [
       "<Figure size 432x288 with 1 Axes>"
      ]
     },
     "metadata": {
      "needs_background": "light"
     },
     "output_type": "display_data"
    }
   ],
   "source": [
    "# Link I used to learn more about histograms: https://www.datacamp.com/community/tutorials/histograms-matplotlib\n",
    "plt.xlabel(\"Value\")\n",
    "plt.ylabel(\"Frequency\")\n",
    "plt.title(\"np.random.rand histogram\")\n",
    "plt.hist(x)"
   ]
  },
  {
   "cell_type": "markdown",
   "metadata": {},
   "source": [
    "As you can see, using the uniform distribution, in combination with a big enough sample size, results in an evenly divided set of random numbers. Every even interval between 0 and 1 (eg. 0.1-0.2 and 0.5-0.6) has roughly the same amount of random numbers that were picked."
   ]
  },
  {
   "cell_type": "code",
   "execution_count": 6,
   "metadata": {},
   "outputs": [
    {
     "data": {
      "text/plain": [
       "(array([1.1000e+01, 3.1500e+02, 3.5990e+03, 1.6940e+04, 3.4914e+04,\n",
       "        3.0725e+04, 1.1512e+04, 1.8600e+03, 1.2000e+02, 4.0000e+00]),\n",
       " array([-4.64442852, -3.68565418, -2.72687985, -1.76810551, -0.80933117,\n",
       "         0.14944317,  1.10821751,  2.06699185,  3.02576618,  3.98454052,\n",
       "         4.94331486]),\n",
       " <a list of 10 Patch objects>)"
      ]
     },
     "execution_count": 6,
     "metadata": {},
     "output_type": "execute_result"
    },
    {
     "data": {
      "image/png": "[encoded data removed]",
      "text/plain": [
       "<Figure size 432x288 with 1 Axes>"
      ]
     },
     "metadata": {
      "needs_background": "light"
     },
     "output_type": "display_data"
    }
   ],
   "source": [
    "plt.xlabel(\"Value\")\n",
    "plt.ylabel(\"Frequency\")\n",
    "plt.title(\"np.random.randn histogram\")\n",
    "plt.hist(y)"
   ]
  },
  {
   "cell_type": "markdown",
   "metadata": {},
   "source": [
    "In this histogram the typical bell shape, that is associated with the normal distribution, can be seen. The numbers randomly selected are centered around the mean of 0, and get less likely the further away from 0."
   ]
  },
  {
   "cell_type": "markdown",
   "metadata": {},
   "source": [
    "#### Numpy.random.randint"
   ]
  },
  {
   "cell_type": "markdown",
   "metadata": {},
   "source": [
    "The <em>randint</em> command returns integers from low (inclusive), to high (exclusive). If there is no high value entered, then results are shown from 0 to low."
   ]
  },
  {
   "cell_type": "code",
   "execution_count": 7,
   "metadata": {},
   "outputs": [
    {
     "data": {
      "text/plain": [
       "array([3, 8, 8, 1, 7])"
      ]
     },
     "execution_count": 7,
     "metadata": {},
     "output_type": "execute_result"
    }
   ],
   "source": [
    "# I used this page for more information on this function: https://docs.scipy.org/doc/numpy-1.14.0/reference/generated/numpy.random.randint.html#numpy.random.randint\n",
    "np.random.randint(1, 10, size = 5)\n",
    "# Generate an array of 5 random integers, between 1 (inclusive) and 10 (exclusive)."
   ]
  },
  {
   "cell_type": "markdown",
   "metadata": {},
   "source": [
    "Another interesting use of <em>randint</em> could be to simulate 10000 throws of 2 dice, and calculate the sum of both. The results of this are shown in below histogram."
   ]
  },
  {
   "cell_type": "code",
   "execution_count": 8,
   "metadata": {
    "scrolled": false
   },
   "outputs": [
    {
     "data": {
      "text/plain": [
       "(array([ 290.,  535.,  845., 1134., 1300., 1627., 1461., 1140.,  860.,\n",
       "         542.,  266.]),\n",
       " array([ 2.        ,  2.90909091,  3.81818182,  4.72727273,  5.63636364,\n",
       "         6.54545455,  7.45454545,  8.36363636,  9.27272727, 10.18181818,\n",
       "        11.09090909, 12.        ]),\n",
       " <a list of 11 Patch objects>)"
      ]
     },
     "execution_count": 8,
     "metadata": {},
     "output_type": "execute_result"
    },
    {
     "data": {
      "image/png": "[encoded data removed]",
      "text/plain": [
       "<Figure size 432x288 with 1 Axes>"
      ]
     },
     "metadata": {
      "needs_background": "light"
     },
     "output_type": "display_data"
    }
   ],
   "source": [
    "dice1 = np.random.randint(1, 7, size = 10000)\n",
    "dice2 = np.random.randint(1, 7, size = 10000)\n",
    "dsums = dice1 + dice2\n",
    "plt.hist(dsums,11)"
   ]
  },
  {
   "cell_type": "markdown",
   "metadata": {},
   "source": [
    "#### np.random.choice"
   ]
  },
  {
   "cell_type": "markdown",
   "metadata": {},
   "source": [
    "This command can be used to generate a non-uniform (where the odds of a value being selected differs) random sample, for different kinds of data, such as integers or strings. There are 4 possible variables that can be entered into the function. a = the array you want to use, size = the size of the output array, replace = whether you want to sample with replacement. This is a true or false value. p = the probability of each of the elements in the array."
   ]
  },
  {
   "cell_type": "code",
   "execution_count": 9,
   "metadata": {},
   "outputs": [
    {
     "data": {
      "text/plain": [
       "array([5, 1, 2, 4, 4, 0, 5, 2, 4, 0], dtype=int64)"
      ]
     },
     "execution_count": 9,
     "metadata": {},
     "output_type": "execute_result"
    }
   ],
   "source": [
    "# Generate a uniform random sample from np.arange(6) of size 10. The sums of the entered probabilities, p, have to add up to 1.\n",
    "# https://docs.scipy.org/doc/numpy-1.14.0/reference/generated/numpy.random.choice.html#numpy.random.choice\n",
    "np.random.choice(6, 10, p=[0.2, 0.1, 0.15, 0.25, 0.1, 0.2])"
   ]
  },
  {
   "cell_type": "markdown",
   "metadata": {},
   "source": [
    "The same can be done with another type of data, like a string"
   ]
  },
  {
   "cell_type": "code",
   "execution_count": 10,
   "metadata": {},
   "outputs": [
    {
     "data": {
      "text/plain": [
       "array(['I', 'My', 'Ride', 'Want', 'To', 'To', 'My', 'My', 'My', 'My'],\n",
       "      dtype='<U7')"
      ]
     },
     "execution_count": 10,
     "metadata": {},
     "output_type": "execute_result"
    }
   ],
   "source": [
    "# Create a string with values of my choice, called str1\n",
    "str1 = [\"I\", \"Want\", \"To\", \"Ride\", \"My\", \"Bicycle\"]\n",
    "np.random.choice(str1, 10, p= [0.24,0.2,0.2,0.14,0.1,0.12])"
   ]
  },
  {
   "cell_type": "markdown",
   "metadata": {},
   "source": [
    "Quick example of the use of the replace variable:"
   ]
  },
  {
   "cell_type": "code",
   "execution_count": 16,
   "metadata": {},
   "outputs": [
    {
     "data": {
      "text/plain": [
       "array(['Spades', 'Clubs', 'Diamonds', 'Hearts'], dtype='<U8')"
      ]
     },
     "execution_count": 16,
     "metadata": {},
     "output_type": "execute_result"
    }
   ],
   "source": [
    "# Took some inspiration from: https://www.sharpsightlabs.com/blog/numpy-random-choice/\n",
    "suits = [\"Hearts\", \"Spades\", \"Clubs\", \"Diamonds\"] # create an string-array of the 4 suits of a deck of cards\n",
    "np.random.choice(suits, 4, replace= False) # display is set to false, so once a suit is selected, it can't be selected again."
   ]
  },
  {
   "cell_type": "markdown",
   "metadata": {},
   "source": [
    "#### np.random.bytes"
   ]
  },
  {
   "cell_type": "markdown",
   "metadata": {},
   "source": [
    "This is a command that asks you to input how many random bytes you would like to be converted to a string. These kind of strings are often seen on internet links. Below is an example of random string, based on random bytes."
   ]
  },
  {
   "cell_type": "code",
   "execution_count": null,
   "metadata": {},
   "outputs": [],
   "source": [
    "# https://docs.scipy.org/doc/numpy-1.14.0/reference/generated/numpy.random.bytes.html#numpy.random.bytes\n",
    "np.random.bytes(20)"
   ]
  },
  {
   "cell_type": "markdown",
   "metadata": {},
   "source": [
    "### Permutations"
   ]
  },
  {
   "cell_type": "markdown",
   "metadata": {},
   "source": [
    "#### Numpy.random.shuffle"
   ]
  },
  {
   "cell_type": "markdown",
   "metadata": {},
   "source": [
    "With this command you can shuffle the contents of an array. If used on a multi-dimensional array, only the order of sub-arrays is changed, not their contents. Below are 2 examples."
   ]
  },
  {
   "cell_type": "code",
   "execution_count": null,
   "metadata": {},
   "outputs": [],
   "source": [
    "# https://docs.scipy.org/doc/numpy-1.14.0/reference/generated/numpy.random.shuffle.html#numpy.random.shuffle\n",
    "# Create an array called arrayshuf with 8 values. Then shuffle contents of array and display array.\n",
    "arrayshuf = np.arange(8)\n",
    "np.random.shuffle(arrayshuf)\n",
    "arrayshuf #display arrayshuf"
   ]
  },
  {
   "cell_type": "code",
   "execution_count": null,
   "metadata": {},
   "outputs": [],
   "source": [
    "# Create a multidimensional array with 12 values\n",
    "arraymd = np.arange(12).reshape((4,3))\n",
    "np.random.shuffle(arraymd)\n",
    "arraymd #display arraymd"
   ]
  },
  {
   "cell_type": "markdown",
   "metadata": {},
   "source": [
    "The array \"arraymd\" consists of 4 sub-arrays of 3 numbers each. The contents of these sub-arrays are constant, but the order in which the sub-arrays are displayed is randomized."
   ]
  },
  {
   "cell_type": "markdown",
   "metadata": {},
   "source": [
    "#### Numpy.random.permutation"
   ]
  },
  {
   "cell_type": "code",
   "execution_count": null,
   "metadata": {},
   "outputs": [],
   "source": []
  }
 ],
 "metadata": {
  "kernelspec": {
   "display_name": "Python 3",
   "language": "python",
   "name": "python3"
  },
  "language_info": {
   "codemirror_mode": {
    "name": "ipython",
    "version": 3
   },
   "file_extension": ".py",
   "mimetype": "text/x-python",
   "name": "python",
   "nbconvert_exporter": "python",
   "pygments_lexer": "ipython3",
   "version": "3.7.1"
  }
 },
 "nbformat": 4,
 "nbformat_minor": 2
}
