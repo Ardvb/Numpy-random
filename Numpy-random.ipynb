{
 "cells": [
  {
   "cell_type": "markdown",
   "metadata": {},
   "source": [
    "# The numpy.random package"
   ]
  },
  {
   "cell_type": "markdown",
   "metadata": {},
   "source": [
    "### Programming for Data Analysis 2019"
   ]
  },
  {
   "cell_type": "markdown",
   "metadata": {},
   "source": [
    "## 1. The overall purpose of the numpy.random package"
   ]
  },
  {
   "cell_type": "markdown",
   "metadata": {},
   "source": [
    "NumPy (Numerical Python) is a library that is used for scientific computing in Python. It adds support for large 2D and 3D arrays and matrices. \n",
    "Numpy.random is a package .........................."
   ]
  },
  {
   "cell_type": "code",
   "execution_count": 1,
   "metadata": {},
   "outputs": [],
   "source": [
    "# Importing the packages we will be using\n",
    "import numpy as np\n",
    "import matplotlib.pyplot as plt"
   ]
  },
  {
   "cell_type": "markdown",
   "metadata": {},
   "source": [
    "## 2. The use of the “Simple random data” and “Permutations” functions explained"
   ]
  },
  {
   "cell_type": "markdown",
   "metadata": {},
   "source": [
    "The simple random data function is used to generate random (I will call them random for now, but I will explain later they are actually pseudorandom) numbers. Below I will shortly explain and show some of the commands that can be used."
   ]
  },
  {
   "cell_type": "code",
   "execution_count": 6,
   "metadata": {},
   "outputs": [
    {
     "data": {
      "text/plain": [
       "array([[0.32158328, 0.52910866, 0.48760885, 0.23140069],\n",
       "       [0.81682472, 0.98462954, 0.45887982, 0.15400232],\n",
       "       [0.94939551, 0.73024694, 0.02111277, 0.27168999]])"
      ]
     },
     "execution_count": 6,
     "metadata": {},
     "output_type": "execute_result"
    }
   ],
   "source": [
    "# Using the 'rand' command to return an array with random floats (between 0 and 1) in a given shape. \n",
    "# In this case an array with 3 columns and 4 rows.\n",
    "# I used this website for an overview of all Simple random data options the package has to offer: https://docs.scipy.org/doc/numpy-1.14.0/reference/routines.random.html\n",
    "np.random.rand(3, 4)"
   ]
  },
  {
   "cell_type": "code",
   "execution_count": 12,
   "metadata": {},
   "outputs": [
    {
     "data": {
      "text/plain": [
       "array([[[ 0.45639052, -0.6398634 ,  0.15301577,  0.03288415],\n",
       "        [ 0.20534413,  0.30499709, -1.57656675,  1.27806439],\n",
       "        [ 1.78065453, -0.33596827, -0.32216656, -0.22003104]],\n",
       "\n",
       "       [[-0.28331172,  0.33461864,  0.07644322,  0.96893456],\n",
       "        [-1.28129024,  0.87466938, -0.57640212, -0.44150077],\n",
       "        [ 0.65794421, -2.14265501,  0.18629624, -0.31071687]]])"
      ]
     },
     "execution_count": 12,
     "metadata": {},
     "output_type": "execute_result"
    }
   ],
   "source": [
    "# Using the 'randn' function to return 1 or more arrays with random floats from the \"standard normal\" distribution,\n",
    "# of mean 0 and variance 1.\n",
    "# I used this page to understand this command: https://docs.scipy.org/doc/numpy-1.14.0/reference/generated/numpy.random.randn.html#numpy.random.randn\n",
    "np.random.randn(2, 3, 4)\n",
    "# 2 arrays which consist of 3 columns and 4 rows."
   ]
  },
  {
   "cell_type": "code",
   "execution_count": 15,
   "metadata": {},
   "outputs": [
    {
     "data": {
      "text/plain": [
       "array([4, 1, 4, 9, 1])"
      ]
     },
     "execution_count": 15,
     "metadata": {},
     "output_type": "execute_result"
    }
   ],
   "source": [
    "# The 'randint' function returns integers from low (inclusive) to high (exclusive).\n",
    "# If there is no high value entered, then results are shown from 0 to 'low'.\n",
    "# I used this page for more information on this function: https://docs.scipy.org/doc/numpy-1.14.0/reference/generated/numpy.random.randint.html#numpy.random.randint\n",
    "np.random.randint(1, 10, size = 5)\n",
    "# Generate an array of 5 random integers, between 1 (inclusive) and 10 (exclusive)."
   ]
  },
  {
   "cell_type": "code",
   "execution_count": 16,
   "metadata": {},
   "outputs": [
    {
     "data": {
      "text/plain": [
       "array([0.36747344, 0.4340795 , 0.88917077, 0.9856484 , 0.46249066,\n",
       "       0.77480678, 0.73850833, 0.47044273, 0.38942045, 0.90665115])"
      ]
     },
     "execution_count": 16,
     "metadata": {},
     "output_type": "execute_result"
    }
   ],
   "source": [
    "np.random.random(size = 10)"
   ]
  },
  {
   "cell_type": "code",
   "execution_count": null,
   "metadata": {},
   "outputs": [],
   "source": []
  }
 ],
 "metadata": {
  "kernelspec": {
   "display_name": "Python 3",
   "language": "python",
   "name": "python3"
  },
  "language_info": {
   "codemirror_mode": {
    "name": "ipython",
    "version": 3
   },
   "file_extension": ".py",
   "mimetype": "text/x-python",
   "name": "python",
   "nbconvert_exporter": "python",
   "pygments_lexer": "ipython3",
   "version": "3.7.1"
  }
 },
 "nbformat": 4,
 "nbformat_minor": 2
}
