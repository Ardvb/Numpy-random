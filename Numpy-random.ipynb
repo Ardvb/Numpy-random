{
 "cells": [
  {
   "cell_type": "markdown",
   "metadata": {},
   "source": [
    "# The numpy.random package"
   ]
  },
  {
   "cell_type": "markdown",
   "metadata": {},
   "source": [
    "### Programming for Data Analysis 2019"
   ]
  },
  {
   "cell_type": "markdown",
   "metadata": {},
   "source": [
    "## 1. The overall purpose of the numpy.random package"
   ]
  },
  {
   "cell_type": "markdown",
   "metadata": {},
   "source": [
    "NumPy (Numerical Python) is a library that is used for scientific computing in Python. It adds support for large 2D and 3D arrays and matrices. \n",
    "Numpy.random is a package ..........................AANVULLEN!!!!!"
   ]
  },
  {
   "cell_type": "code",
   "execution_count": 1,
   "metadata": {},
   "outputs": [],
   "source": [
    "# Importing the packages we will be using\n",
    "import numpy as np\n",
    "import matplotlib.pyplot as plt"
   ]
  },
  {
   "cell_type": "markdown",
   "metadata": {},
   "source": [
    "## 2. The use of the “Simple random data” and “Permutations” functions explained"
   ]
  },
  {
   "cell_type": "markdown",
   "metadata": {},
   "source": [
    "### Simple random data"
   ]
  },
  {
   "cell_type": "markdown",
   "metadata": {},
   "source": [
    "The simple random data function is used to generate random (I will call them random for now, but I will explain later they are actually pseudorandom) numbers. There are 10 different functions within the Simple random data module. However, not all of them are equally useful.  Below I will shortly explain and show some of the more useful commands contained in this module."
   ]
  },
  {
   "cell_type": "markdown",
   "metadata": {},
   "source": [
    "#### Numpy.random.rand"
   ]
  },
  {
   "cell_type": "code",
   "execution_count": 2,
   "metadata": {},
   "outputs": [
    {
     "data": {
      "text/plain": [
       "array([[0.7571432 , 0.72320855, 0.36927186, 0.75533017],\n",
       "       [0.0802266 , 0.06385641, 0.66970859, 0.04035661],\n",
       "       [0.5824058 , 0.48209508, 0.27638014, 0.42253495]])"
      ]
     },
     "execution_count": 2,
     "metadata": {},
     "output_type": "execute_result"
    }
   ],
   "source": [
    "# Using the 'rand' command to return an array with random floats (between 0 and 1), using the uniform distribution. \n",
    "# In this case an array with 3 columns and 4 rows.\n",
    "# I used this website for an overview of all Simple random data options the package has to offer: https://docs.scipy.org/doc/numpy-1.14.0/reference/routines.random.html\n",
    "np.random.rand(3, 4)"
   ]
  },
  {
   "cell_type": "markdown",
   "metadata": {},
   "source": [
    "#### Numpy.random.randn"
   ]
  },
  {
   "cell_type": "code",
   "execution_count": 3,
   "metadata": {},
   "outputs": [
    {
     "data": {
      "text/plain": [
       "array([[[-1.02126917, -0.47477199,  0.66567304, -0.39713253],\n",
       "        [-1.01429305,  1.26018092,  1.08844382, -1.7607972 ],\n",
       "        [ 0.83980396,  1.04445323,  0.34107891,  0.01808307]],\n",
       "\n",
       "       [[-0.5586938 ,  1.3916448 ,  0.06058898,  0.38127318],\n",
       "        [-1.21221309,  2.08637641,  0.82741345, -0.78142535],\n",
       "        [ 0.55904654,  1.62745534,  1.23193303, -0.72415484]]])"
      ]
     },
     "execution_count": 3,
     "metadata": {},
     "output_type": "execute_result"
    }
   ],
   "source": [
    "# Using the 'randn' function to return 1 or more arrays with random floats from the \"standard normal\" distribution,\n",
    "# of mean 0 and variance 1.\n",
    "# I used this page to understand this command: https://docs.scipy.org/doc/numpy-1.14.0/reference/generated/numpy.random.randn.html#numpy.random.randn\n",
    "np.random.randn(2, 3, 4)\n",
    "# 2 arrays which consist of 3 columns and 4 rows."
   ]
  },
  {
   "cell_type": "markdown",
   "metadata": {},
   "source": [
    "Let's visualize the difference between the np.random.rand and the np.random.randn commands, by plotting them, using a histogram."
   ]
  },
  {
   "cell_type": "code",
   "execution_count": 4,
   "metadata": {},
   "outputs": [],
   "source": [
    "x = np.random.rand(100000)\n",
    "y = np.random.randn(100000)"
   ]
  },
  {
   "cell_type": "code",
   "execution_count": 5,
   "metadata": {},
   "outputs": [
    {
     "data": {
      "text/plain": [
       "(array([10125., 10089.,  9820.,  9799.,  9996.,  9883., 10060.,  9951.,\n",
       "        10131., 10146.]),\n",
       " array([6.65975839e-06, 1.00005608e-01, 2.00004556e-01, 3.00003505e-01,\n",
       "        4.00002453e-01, 5.00001401e-01, 6.00000350e-01, 6.99999298e-01,\n",
       "        7.99998246e-01, 8.99997194e-01, 9.99996143e-01]),\n",
       " <a list of 10 Patch objects>)"
      ]
     },
     "execution_count": 5,
     "metadata": {},
     "output_type": "execute_result"
    },
    {
     "data": {
      "image/png": "[encoded data removed]",
      "text/plain": [
       "<Figure size 432x288 with 1 Axes>"
      ]
     },
     "metadata": {
      "needs_background": "light"
     },
     "output_type": "display_data"
    }
   ],
   "source": [
    "# Link I used to learn more about histograms: https://www.datacamp.com/community/tutorials/histograms-matplotlib\n",
    "plt.xlabel(\"Value\")\n",
    "plt.ylabel(\"Frequency\")\n",
    "plt.title(\"np.random.rand histogram\")\n",
    "plt.hist(x)"
   ]
  },
  {
   "cell_type": "markdown",
   "metadata": {},
   "source": [
    "As you can see, using the uniform distribution, in combination with a big enough sample size, results in an evenly divided set of random numbers. Every even interval between 0 and 1 (eg. 0.1-0.2 and 0.5-0.6) has roughly the same amount of random numbers that were picked."
   ]
  },
  {
   "cell_type": "code",
   "execution_count": 6,
   "metadata": {},
   "outputs": [
    {
     "data": {
      "text/plain": [
       "(array([1.0000e+01, 1.8700e+02, 2.3240e+03, 1.1513e+04, 2.8600e+04,\n",
       "        3.3249e+04, 1.8572e+04, 4.8830e+03, 6.2500e+02, 3.7000e+01]),\n",
       " array([-4.62273159, -3.73454779, -2.84636399, -1.95818018, -1.06999638,\n",
       "        -0.18181258,  0.70637123,  1.59455503,  2.48273883,  3.37092264,\n",
       "         4.25910644]),\n",
       " <a list of 10 Patch objects>)"
      ]
     },
     "execution_count": 6,
     "metadata": {},
     "output_type": "execute_result"
    },
    {
     "data": {
      "image/png": "[encoded data removed]",
      "text/plain": [
       "<Figure size 432x288 with 1 Axes>"
      ]
     },
     "metadata": {
      "needs_background": "light"
     },
     "output_type": "display_data"
    }
   ],
   "source": [
    "plt.xlabel(\"Value\")\n",
    "plt.ylabel(\"Frequency\")\n",
    "plt.title(\"np.random.randn histogram\")\n",
    "plt.hist(y)"
   ]
  },
  {
   "cell_type": "markdown",
   "metadata": {},
   "source": [
    "In this histogram the typical bell shape, that is associated with the normal distribution, can be seen. The numbers randomly selected are centered around the mean of 0, and get less likely the further away from 0."
   ]
  },
  {
   "cell_type": "markdown",
   "metadata": {},
   "source": [
    "#### Numpy.random.randint"
   ]
  },
  {
   "cell_type": "code",
   "execution_count": 7,
   "metadata": {},
   "outputs": [
    {
     "data": {
      "text/plain": [
       "array([2, 2, 3, 7, 2])"
      ]
     },
     "execution_count": 7,
     "metadata": {},
     "output_type": "execute_result"
    }
   ],
   "source": [
    "# The 'randint' function returns integers from low (inclusive) to high (exclusive).\n",
    "# If there is no high value entered, then results are shown from 0 to 'low'.\n",
    "# I used this page for more information on this function: https://docs.scipy.org/doc/numpy-1.14.0/reference/generated/numpy.random.randint.html#numpy.random.randint\n",
    "np.random.randint(1, 10, size = 5)\n",
    "# Generate an array of 5 random integers, between 1 (inclusive) and 10 (exclusive)."
   ]
  },
  {
   "cell_type": "markdown",
   "metadata": {},
   "source": [
    "Another interesting use of randint could be to simulate 10000 throws of 2 dice, and calculate the sum of both. The results of this are shown in below histogram."
   ]
  },
  {
   "cell_type": "code",
   "execution_count": 8,
   "metadata": {
    "scrolled": false
   },
   "outputs": [
    {
     "data": {
      "text/plain": [
       "(array([ 268.,  536.,  782., 1144., 1386., 1707., 1365., 1124.,  861.,\n",
       "         529.,  298.]),\n",
       " array([ 2.        ,  2.90909091,  3.81818182,  4.72727273,  5.63636364,\n",
       "         6.54545455,  7.45454545,  8.36363636,  9.27272727, 10.18181818,\n",
       "        11.09090909, 12.        ]),\n",
       " <a list of 11 Patch objects>)"
      ]
     },
     "execution_count": 8,
     "metadata": {},
     "output_type": "execute_result"
    },
    {
     "data": {
      "image/png": "[encoded data removed]",
      "text/plain": [
       "<Figure size 432x288 with 1 Axes>"
      ]
     },
     "metadata": {
      "needs_background": "light"
     },
     "output_type": "display_data"
    }
   ],
   "source": [
    "dice1 = np.random.randint(1, 7, size = 10000)\n",
    "dice2 = np.random.randint(1, 7, size = 10000)\n",
    "dsums = dice1 + dice2\n",
    "plt.hist(dsums,11)"
   ]
  },
  {
   "cell_type": "markdown",
   "metadata": {},
   "source": [
    "#### np.random.choice"
   ]
  },
  {
   "cell_type": "markdown",
   "metadata": {},
   "source": [
    "This command can be used to generate a non-uniform (where the odds of a value being selected differs) random sample, for different kinds of data, such as integers or strings."
   ]
  },
  {
   "cell_type": "code",
   "execution_count": 9,
   "metadata": {},
   "outputs": [
    {
     "data": {
      "text/plain": [
       "array([0, 3, 0, 4, 0, 2, 3, 0, 3, 1], dtype=int64)"
      ]
     },
     "execution_count": 9,
     "metadata": {},
     "output_type": "execute_result"
    }
   ],
   "source": [
    "# Generate a uniform random sample from np.arange(6) of size 10. The sums of the entered probabilities, p, have to add up to 1.\n",
    "# https://docs.scipy.org/doc/numpy-1.14.0/reference/generated/numpy.random.choice.html#numpy.random.choice\n",
    "np.random.choice(6, 10, p=[0.2, 0.1, 0.15, 0.25, 0.1, 0.2])"
   ]
  },
  {
   "cell_type": "markdown",
   "metadata": {},
   "source": [
    "The same can be done with another type of data, like a string"
   ]
  },
  {
   "cell_type": "code",
   "execution_count": 10,
   "metadata": {},
   "outputs": [
    {
     "data": {
      "text/plain": [
       "array(['Want', 'To', 'Want', 'To', 'I', 'To', 'Ride', 'Want', 'My',\n",
       "       'Want'], dtype='<U7')"
      ]
     },
     "execution_count": 10,
     "metadata": {},
     "output_type": "execute_result"
    }
   ],
   "source": [
    "# Create a string with values of my choice, called str1\n",
    "str1 = [\"I\", \"Want\", \"To\", \"Ride\", \"My\", \"Bicycle\"]\n",
    "np.random.choice(str1, 10, p= [0.24,0.2,0.2,0.14,0.1,0.12])"
   ]
  },
  {
   "cell_type": "markdown",
   "metadata": {},
   "source": [
    "#### np.random.bytes"
   ]
  },
  {
   "cell_type": "markdown",
   "metadata": {},
   "source": [
    "This is a command that asks you to input how many random bytes you would like to be converted to a string. These kind of strings are often seen on internet links. Below is an example of random string, based on random bytes."
   ]
  },
  {
   "cell_type": "code",
   "execution_count": 11,
   "metadata": {},
   "outputs": [
    {
     "data": {
      "text/plain": [
       "b'\\xc2\\xb9K\\xa8 \\x9f\\x13_\\x83@9i\\xef\\x12\\x11\\xb1]\\xe8\\xba='"
      ]
     },
     "execution_count": 11,
     "metadata": {},
     "output_type": "execute_result"
    }
   ],
   "source": [
    "# https://docs.scipy.org/doc/numpy-1.14.0/reference/generated/numpy.random.bytes.html#numpy.random.bytes\n",
    "np.random.bytes(20)"
   ]
  },
  {
   "cell_type": "markdown",
   "metadata": {},
   "source": [
    "### Permutations"
   ]
  },
  {
   "cell_type": "markdown",
   "metadata": {},
   "source": [
    "#### Numpy.random.shuffle"
   ]
  },
  {
   "cell_type": "markdown",
   "metadata": {},
   "source": [
    "With this command you can shuffle the contents of an array. If used on a multi-dimensional array, only the order of sub-arrays is changed, not their contents. Below are 2 examples."
   ]
  },
  {
   "cell_type": "code",
   "execution_count": 15,
   "metadata": {},
   "outputs": [
    {
     "data": {
      "text/plain": [
       "array([6, 0, 7, 5, 1, 3, 2, 4])"
      ]
     },
     "execution_count": 15,
     "metadata": {},
     "output_type": "execute_result"
    }
   ],
   "source": [
    "# https://docs.scipy.org/doc/numpy-1.14.0/reference/generated/numpy.random.shuffle.html#numpy.random.shuffle\n",
    "# Create an array called arrayshuf with 8 values. Then shuffle contents of array and display array.\n",
    "arrayshuf = np.arange(8)\n",
    "np.random.shuffle(arrayshuf)\n",
    "arrayshuf #display arrayshuf"
   ]
  },
  {
   "cell_type": "code",
   "execution_count": 18,
   "metadata": {},
   "outputs": [
    {
     "data": {
      "text/plain": [
       "array([[ 3,  4,  5],\n",
       "       [ 9, 10, 11],\n",
       "       [ 6,  7,  8],\n",
       "       [ 0,  1,  2]])"
      ]
     },
     "execution_count": 18,
     "metadata": {},
     "output_type": "execute_result"
    }
   ],
   "source": [
    "# Create a multidimensional array with 12 values\n",
    "arraymd = np.arange(12).reshape((4,3))\n",
    "np.random.shuffle(arraymd)\n",
    "arraymd #display arraymd"
   ]
  },
  {
   "cell_type": "markdown",
   "metadata": {},
   "source": [
    "The array \"arraymd\" consists of 4 sub-arrays of 3 numbers each. The contents of these sub-arrays are constant, but the order in which the sub-arrays are displayed is randomized."
   ]
  },
  {
   "cell_type": "markdown",
   "metadata": {},
   "source": [
    "#### Numpy.random.permutation"
   ]
  },
  {
   "cell_type": "code",
   "execution_count": null,
   "metadata": {},
   "outputs": [],
   "source": []
  }
 ],
 "metadata": {
  "kernelspec": {
   "display_name": "Python 3",
   "language": "python",
   "name": "python3"
  },
  "language_info": {
   "codemirror_mode": {
    "name": "ipython",
    "version": 3
   },
   "file_extension": ".py",
   "mimetype": "text/x-python",
   "name": "python",
   "nbconvert_exporter": "python",
   "pygments_lexer": "ipython3",
   "version": "3.7.1"
  }
 },
 "nbformat": 4,
 "nbformat_minor": 2
}
