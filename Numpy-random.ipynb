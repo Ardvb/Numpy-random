{
 "cells": [
  {
   "cell_type": "markdown",
   "metadata": {},
   "source": [
    "# The numpy.random package"
   ]
  },
  {
   "cell_type": "markdown",
   "metadata": {},
   "source": [
    "### Programming for Data Analysis 2019"
   ]
  },
  {
   "cell_type": "markdown",
   "metadata": {},
   "source": [
    "## Introduction: What is NumPy?"
   ]
  },
  {
   "cell_type": "markdown",
   "metadata": {},
   "source": [
    "NumPy (Numerical Python) is a library that is used for scientific computing in Python. An important part is the NumPy array, which is a multidimensional data structure and is used to represent matrices en vectors.\n",
    "NumPy adds a huge deal to Python. Without it, programmers would have to resort to other programming languages (like R or Matlab) for some of the linear algebra problems NumPy deals with, as Python itself isn't very efficient.\n",
    "To give an example, when using numpy arrays, instead of python lists, to hold data, most programs will run a lot faster (even up to thousands of times faster for some programs).\n",
    "\n",
    "Numpy is also the core on which other popular packages, such as matplotlib, are build.\n",
    "\n",
    "To put it in my own words: Python makes programming user friendly, but when it comes to certain mathematical problems, NumPy enables Python to be even more efficient, and even easier to use."
   ]
  },
  {
   "cell_type": "markdown",
   "metadata": {},
   "source": [
    "## 1. The overall purpose of the numpy.random package"
   ]
  },
  {
   "cell_type": "markdown",
   "metadata": {},
   "source": [
    "The numpy.random package is a group of functions, that is used to generate arrays of (pseudo)random numbers in all shapes and forms. Random integers and floats can be generated, and shuffled or permuted in any way the user sees fit. Samples can be drawn from lots of different distributions. NumPy uses an algorithm called the Mersenne twister to generate pseudorandom numbers. Generating (pseudo)random numbers is a vital part of any simulation and can be used to solve countless real world problems: from economics, to the height of waves, and from gambling to the failure times of electronic components. The Numpy.random package makes it more efficient to simulate these things in Python."
   ]
  },
  {
   "cell_type": "code",
   "execution_count": 1,
   "metadata": {},
   "outputs": [],
   "source": [
    "                                                # Importing the packages we will be using\n",
    "import numpy as np\n",
    "import matplotlib.pyplot as plt"
   ]
  },
  {
   "cell_type": "markdown",
   "metadata": {},
   "source": [
    "## 2. The use of the “Simple random data” and “Permutations” functions explained"
   ]
  },
  {
   "cell_type": "markdown",
   "metadata": {},
   "source": [
    "### Simple random data"
   ]
  },
  {
   "cell_type": "markdown",
   "metadata": {},
   "source": [
    "The simple random data function is used to generate random (I will call them random for now, but I will explain later they are actually pseudorandom) numbers. There are 10 different functions within the Simple random data module. However, not all of them are equally useful.  Below I will shortly explain and show some of the more useful commands contained in this module."
   ]
  },
  {
   "cell_type": "markdown",
   "metadata": {},
   "source": [
    "#### Numpy.random.rand"
   ]
  },
  {
   "cell_type": "markdown",
   "metadata": {},
   "source": [
    "The <em>rand</em> command returns an array with random floats (between 0 and 1), using the uniform distribution, where every float has the same odds of being selected."
   ]
  },
  {
   "cell_type": "code",
   "execution_count": 2,
   "metadata": {},
   "outputs": [
    {
     "data": {
      "text/plain": [
       "array([[0.90621804, 0.84296499, 0.47015865, 0.18810277],\n",
       "       [0.81733417, 0.85726004, 0.39408258, 0.76521228],\n",
       "       [0.34673899, 0.90711816, 0.8540867 , 0.68122918]])"
      ]
     },
     "execution_count": 2,
     "metadata": {},
     "output_type": "execute_result"
    }
   ],
   "source": [
    "# I used this website for an overview of all Simple random data options the package has to offer: https://docs.scipy.org/doc/numpy-1.14.0/reference/routines.random.html\n",
    "np.random.rand(3, 4) # Create an array of random floats between 0 and 1, with 3 columns and 4 rows."
   ]
  },
  {
   "cell_type": "markdown",
   "metadata": {},
   "source": [
    "#### Numpy.random.randn"
   ]
  },
  {
   "cell_type": "markdown",
   "metadata": {},
   "source": [
    "The <em>randn</em> command returns 1 or more arrays with random floats from the standard normal distrubution, of mean 0 and variance 1."
   ]
  },
  {
   "cell_type": "code",
   "execution_count": 3,
   "metadata": {},
   "outputs": [
    {
     "data": {
      "text/plain": [
       "array([[[ 0.19802195, -1.18556957, -1.85751129, -1.14896134],\n",
       "        [-0.62536714,  1.2662024 , -0.08179655,  1.32429443],\n",
       "        [ 1.58924831,  0.05894785, -0.46843671,  0.66495129]],\n",
       "\n",
       "       [[-0.3690669 , -2.1246969 ,  0.73048959, -1.60857944],\n",
       "        [-0.08459442, -0.08590166, -0.7172489 , -1.73230484],\n",
       "        [ 0.7332234 ,  0.37014544, -0.5195501 ,  0.58317486]]])"
      ]
     },
     "execution_count": 3,
     "metadata": {},
     "output_type": "execute_result"
    }
   ],
   "source": [
    "# I used this page to understand this command: https://docs.scipy.org/doc/numpy-1.14.0/reference/generated/numpy.random.randn.html#numpy.random.randn\n",
    "np.random.randn(2, 3, 4) # Create 2 arrays which consist of 3 columns and 4 rows with random numbers following the normal distribution."
   ]
  },
  {
   "cell_type": "markdown",
   "metadata": {},
   "source": [
    "Let's visualize the difference between the np.random.rand and the np.random.randn commands, by plotting them, using a histogram."
   ]
  },
  {
   "cell_type": "code",
   "execution_count": 4,
   "metadata": {},
   "outputs": [],
   "source": [
    "x = np.random.rand(100000)\n",
    "y = np.random.randn(100000)"
   ]
  },
  {
   "cell_type": "code",
   "execution_count": 5,
   "metadata": {},
   "outputs": [
    {
     "data": {
      "text/plain": [
       "(array([ 9957., 10048.,  9786.,  9945., 10068.,  9790., 10058., 10090.,\n",
       "        10035., 10223.]),\n",
       " array([2.09560673e-06, 1.00001368e-01, 2.00000641e-01, 2.99999914e-01,\n",
       "        3.99999186e-01, 4.99998459e-01, 5.99997731e-01, 6.99997004e-01,\n",
       "        7.99996277e-01, 8.99995549e-01, 9.99994822e-01]),\n",
       " <a list of 10 Patch objects>)"
      ]
     },
     "execution_count": 5,
     "metadata": {},
     "output_type": "execute_result"
    },
    {
     "data": {
      "image/png": "[encoded data removed]",
      "text/plain": [
       "<Figure size 432x288 with 1 Axes>"
      ]
     },
     "metadata": {
      "needs_background": "light"
     },
     "output_type": "display_data"
    }
   ],
   "source": [
    "# Link I used to learn more about histograms: https://www.datacamp.com/community/tutorials/histograms-matplotlib\n",
    "plt.xlabel(\"Value\")\n",
    "plt.ylabel(\"Frequency\")\n",
    "plt.title(\"np.random.rand histogram\")\n",
    "plt.hist(x)"
   ]
  },
  {
   "cell_type": "markdown",
   "metadata": {},
   "source": [
    "As you can see, using the uniform distribution, in combination with a big enough sample size, results in an evenly divided set of random numbers. Every even interval between 0 and 1 (eg. 0.1-0.2 and 0.5-0.6) has roughly the same amount of random numbers that were picked."
   ]
  },
  {
   "cell_type": "code",
   "execution_count": 6,
   "metadata": {},
   "outputs": [
    {
     "data": {
      "text/plain": [
       "(array([   40.,   534.,  3838., 14696., 29280., 30025., 16347.,  4515.,\n",
       "          664.,    61.]),\n",
       " array([-4.20335484, -3.37136163, -2.53936843, -1.70737522, -0.87538202,\n",
       "        -0.04338881,  0.78860439,  1.6205976 ,  2.4525908 ,  3.28458401,\n",
       "         4.11657721]),\n",
       " <a list of 10 Patch objects>)"
      ]
     },
     "execution_count": 6,
     "metadata": {},
     "output_type": "execute_result"
    },
    {
     "data": {
      "image/png": "[encoded data removed]",
      "text/plain": [
       "<Figure size 432x288 with 1 Axes>"
      ]
     },
     "metadata": {
      "needs_background": "light"
     },
     "output_type": "display_data"
    }
   ],
   "source": [
    "plt.xlabel(\"Value\")\n",
    "plt.ylabel(\"Frequency\")\n",
    "plt.title(\"np.random.randn histogram\")\n",
    "plt.hist(y)"
   ]
  },
  {
   "cell_type": "markdown",
   "metadata": {},
   "source": [
    "In this histogram the typical bell shape, that is associated with the normal distribution, can be seen. The numbers randomly selected are centered around the mean of 0, and get less likely the further away from 0."
   ]
  },
  {
   "cell_type": "markdown",
   "metadata": {},
   "source": [
    "Let's look at other ways to instantly show the difference between <em>rand</em> and <em>randn</em>"
   ]
  },
  {
   "cell_type": "code",
   "execution_count": 61,
   "metadata": {},
   "outputs": [
    {
     "data": {
      "image/png": "[encoded data removed]",
      "text/plain": [
       "<Figure size 432x288 with 1 Axes>"
      ]
     },
     "metadata": {
      "needs_background": "light"
     },
     "output_type": "display_data"
    }
   ],
   "source": [
    "x = np.random.rand(1000)\n",
    "plt.plot(x, \"g.\")\n",
    "plt.title(\"Rand\")\n",
    "plt.grid()"
   ]
  },
  {
   "cell_type": "code",
   "execution_count": 67,
   "metadata": {},
   "outputs": [
    {
     "data": {
      "image/png": "[encoded data removed]",
      "text/plain": [
       "<Figure size 432x288 with 1 Axes>"
      ]
     },
     "metadata": {
      "needs_background": "light"
     },
     "output_type": "display_data"
    }
   ],
   "source": [
    "x = np.random.randn(1000)\n",
    "plt.plot(x, \"m.\")\n",
    "plt.title(\"Randn\")\n",
    "plt.grid()"
   ]
  },
  {
   "cell_type": "markdown",
   "metadata": {},
   "source": [
    "As can be seen, the numbers picked after using the <em>randn</em> command, centre around the mean of 0, where the output of the rand"
   ]
  },
  {
   "cell_type": "markdown",
   "metadata": {},
   "source": [
    "#### Numpy.random.randint"
   ]
  },
  {
   "cell_type": "markdown",
   "metadata": {},
   "source": [
    "The <em>randint</em> command returns integers from low (inclusive), to high (exclusive). If there is no high value entered, then results are shown from 0 to low."
   ]
  },
  {
   "cell_type": "code",
   "execution_count": 8,
   "metadata": {},
   "outputs": [
    {
     "data": {
      "text/plain": [
       "array([9, 7, 3, 1, 1])"
      ]
     },
     "execution_count": 8,
     "metadata": {},
     "output_type": "execute_result"
    }
   ],
   "source": [
    "# I used this page for more information on this function: https://docs.scipy.org/doc/numpy-1.14.0/reference/generated/numpy.random.randint.html#numpy.random.randint\n",
    "np.random.randint(1, 10, size = 5)\n",
    "# Generate an array of 5 random integers, between 1 (inclusive) and 10 (exclusive)."
   ]
  },
  {
   "cell_type": "markdown",
   "metadata": {},
   "source": [
    "Another interesting use of <em>randint</em> could be to simulate 10000 throws of 2 dice, and calculate the sum of both. The results of this are shown in below histogram."
   ]
  },
  {
   "cell_type": "code",
   "execution_count": 9,
   "metadata": {
    "scrolled": false
   },
   "outputs": [
    {
     "data": {
      "text/plain": [
       "(array([ 302.,  514.,  835., 1141., 1399., 1657., 1414., 1081.,  795.,\n",
       "         546.,  316.]),\n",
       " array([ 2.        ,  2.90909091,  3.81818182,  4.72727273,  5.63636364,\n",
       "         6.54545455,  7.45454545,  8.36363636,  9.27272727, 10.18181818,\n",
       "        11.09090909, 12.        ]),\n",
       " <a list of 11 Patch objects>)"
      ]
     },
     "execution_count": 9,
     "metadata": {},
     "output_type": "execute_result"
    },
    {
     "data": {
      "image/png": "[encoded data removed]",
      "text/plain": [
       "<Figure size 432x288 with 1 Axes>"
      ]
     },
     "metadata": {
      "needs_background": "light"
     },
     "output_type": "display_data"
    }
   ],
   "source": [
    "dice1 = np.random.randint(1, 7, size = 10000)\n",
    "dice2 = np.random.randint(1, 7, size = 10000)\n",
    "dsums = dice1 + dice2\n",
    "plt.hist(dsums,11)"
   ]
  },
  {
   "cell_type": "markdown",
   "metadata": {},
   "source": [
    "#### np.random.choice"
   ]
  },
  {
   "cell_type": "markdown",
   "metadata": {},
   "source": [
    "This command can be used to generate a non-uniform (where the odds of a value being selected differs) random sample, for different kinds of data, such as integers or strings. There are 4 possible variables that can be entered into the function. a = the array you want to use, size = the size of the output array, replace = whether you want to sample with replacement. This is a true or false value. p = the probability of each of the elements in the array."
   ]
  },
  {
   "cell_type": "code",
   "execution_count": 10,
   "metadata": {},
   "outputs": [
    {
     "data": {
      "text/plain": [
       "array([5, 0, 3, 3, 3, 3, 1, 1, 5, 2], dtype=int64)"
      ]
     },
     "execution_count": 10,
     "metadata": {},
     "output_type": "execute_result"
    }
   ],
   "source": [
    "# Generate a uniform random sample from np.arange(6) of size 10. The sums of the entered probabilities, p, have to add up to 1.\n",
    "# https://docs.scipy.org/doc/numpy-1.14.0/reference/generated/numpy.random.choice.html#numpy.random.choice\n",
    "np.random.choice(6, 10, p=[0.2, 0.1, 0.15, 0.25, 0.1, 0.2])"
   ]
  },
  {
   "cell_type": "markdown",
   "metadata": {},
   "source": [
    "The same can be done with another type of data, like a string"
   ]
  },
  {
   "cell_type": "code",
   "execution_count": 11,
   "metadata": {},
   "outputs": [
    {
     "data": {
      "text/plain": [
       "array(['I', 'Want', 'Want', 'To', 'Bicycle', 'My', 'I', 'I', 'Bicycle',\n",
       "       'Want'], dtype='<U7')"
      ]
     },
     "execution_count": 11,
     "metadata": {},
     "output_type": "execute_result"
    }
   ],
   "source": [
    "# Create a string with values of my choice, called str1\n",
    "str1 = [\"I\", \"Want\", \"To\", \"Ride\", \"My\", \"Bicycle\"]\n",
    "np.random.choice(str1, 10, p= [0.24,0.2,0.2,0.14,0.1,0.12])"
   ]
  },
  {
   "cell_type": "markdown",
   "metadata": {},
   "source": [
    "Quick example of the use of the replace variable:"
   ]
  },
  {
   "cell_type": "code",
   "execution_count": 12,
   "metadata": {},
   "outputs": [
    {
     "data": {
      "text/plain": [
       "array(['Diamonds', 'Hearts', 'Spades', 'Clubs'], dtype='<U8')"
      ]
     },
     "execution_count": 12,
     "metadata": {},
     "output_type": "execute_result"
    }
   ],
   "source": [
    "# Took some inspiration from: https://www.sharpsightlabs.com/blog/numpy-random-choice/\n",
    "suits = [\"Hearts\", \"Spades\", \"Clubs\", \"Diamonds\"] # create an string-array of the 4 suits of a deck of cards\n",
    "np.random.choice(suits, 4, replace= False) # display is set to false, so once a suit is selected, it can't be selected again."
   ]
  },
  {
   "cell_type": "markdown",
   "metadata": {},
   "source": [
    "#### np.random.bytes"
   ]
  },
  {
   "cell_type": "markdown",
   "metadata": {},
   "source": [
    "This is a command that asks you to input how many random bytes you would like to be converted to a string. These kind of strings are often seen on internet links. Below is an example of random string, based on random bytes."
   ]
  },
  {
   "cell_type": "code",
   "execution_count": 13,
   "metadata": {},
   "outputs": [
    {
     "data": {
      "text/plain": [
       "b'\\xd8\\x97\\x94\\n\\x95|\\x1a\\xc6\\x00\\x87<F\\x15h5\\xe0\\xb3\\xcav\\xf7'"
      ]
     },
     "execution_count": 13,
     "metadata": {},
     "output_type": "execute_result"
    }
   ],
   "source": [
    "# https://docs.scipy.org/doc/numpy-1.14.0/reference/generated/numpy.random.bytes.html#numpy.random.bytes\n",
    "np.random.bytes(20)"
   ]
  },
  {
   "cell_type": "markdown",
   "metadata": {},
   "source": [
    "### Permutations"
   ]
  },
  {
   "cell_type": "markdown",
   "metadata": {},
   "source": [
    "#### Numpy.random.shuffle"
   ]
  },
  {
   "cell_type": "markdown",
   "metadata": {},
   "source": [
    "With this command you can shuffle the contents of an array. If used on a multi-dimensional array, only the order of sub-arrays is changed, not their contents. Below are 2 examples:"
   ]
  },
  {
   "cell_type": "code",
   "execution_count": 14,
   "metadata": {},
   "outputs": [
    {
     "data": {
      "text/plain": [
       "array([6, 0, 4, 5, 3, 1, 2, 7])"
      ]
     },
     "execution_count": 14,
     "metadata": {},
     "output_type": "execute_result"
    }
   ],
   "source": [
    "# https://docs.scipy.org/doc/numpy-1.14.0/reference/generated/numpy.random.shuffle.html#numpy.random.shuffle\n",
    "# Create an array called arrayshuf with 8 values. Then shuffle contents of array and display array.\n",
    "arrayshuf = np.arange(8)\n",
    "np.random.shuffle(arrayshuf)\n",
    "arrayshuf #display arrayshuf"
   ]
  },
  {
   "cell_type": "code",
   "execution_count": 15,
   "metadata": {},
   "outputs": [
    {
     "data": {
      "text/plain": [
       "array([[ 3,  4,  5],\n",
       "       [ 0,  1,  2],\n",
       "       [ 6,  7,  8],\n",
       "       [ 9, 10, 11]])"
      ]
     },
     "execution_count": 15,
     "metadata": {},
     "output_type": "execute_result"
    }
   ],
   "source": [
    "# Create a multidimensional array with 12 values\n",
    "arraymd = np.arange(12).reshape((4,3))\n",
    "np.random.shuffle(arraymd)\n",
    "arraymd #display arraymd"
   ]
  },
  {
   "cell_type": "markdown",
   "metadata": {},
   "source": [
    "The array \"arraymd\" consists of 4 sub-arrays of 3 numbers each. The contents of these sub-arrays are constant, but the order in which the sub-arrays are displayed is randomized."
   ]
  },
  {
   "cell_type": "markdown",
   "metadata": {},
   "source": [
    "#### Numpy.random.permutation"
   ]
  },
  {
   "cell_type": "markdown",
   "metadata": {},
   "source": [
    "This command is similar to the <em>shuffle</em> command, but besides an array, an integer can also be entered."
   ]
  },
  {
   "cell_type": "code",
   "execution_count": 16,
   "metadata": {},
   "outputs": [
    {
     "data": {
      "text/plain": [
       "array([ 8,  0,  9,  5,  3,  6,  4,  1, 13,  7, 11, 14, 10,  2, 12])"
      ]
     },
     "execution_count": 16,
     "metadata": {},
     "output_type": "execute_result"
    }
   ],
   "source": [
    "# I used this to learn about the numpy.random.permutation command: https://het.as.utexas.edu/HET/Software/Numpy/reference/generated/numpy.random.permutation.html\n",
    "np.random.permutation(15) # randomly permute x (15)"
   ]
  },
  {
   "cell_type": "markdown",
   "metadata": {},
   "source": [
    "## 3. The use and purpose of 5 \"Distributions\" functions explained"
   ]
  },
  {
   "cell_type": "markdown",
   "metadata": {},
   "source": [
    "### Binomial distribution"
   ]
  },
  {
   "cell_type": "markdown",
   "metadata": {},
   "source": [
    "The binomial distribution uses parameters <em>n</em> and <em>p</em>, and is used to calculate the number of successes in <em>n</em> independant experiments. It is a type of distribution that has two possible outcomes. The easiest example is a coin toss, which I will show below."
   ]
  },
  {
   "cell_type": "code",
   "execution_count": 17,
   "metadata": {},
   "outputs": [
    {
     "data": {
      "text/plain": [
       "0.1782"
      ]
     },
     "execution_count": 17,
     "metadata": {},
     "output_type": "execute_result"
    }
   ],
   "source": [
    "# https://www.statisticshowto.datasciencecentral.com/probability-and-statistics/binomial-theorem/binomial-distribution-formula/\n",
    "# https://docs.scipy.org/doc/numpy-1.14.1/reference/generated/numpy.random.binomial.html#numpy.random.binomial\n",
    "# Using the np.random.binomial function to calculate the odds of at least 7 'heads' in a series of 10 coinflips.\n",
    "sum(np.random.binomial(10, 0.5, 10000) >6)/10000 # 10000 trials done, and count how often more than 6 'heads' showed up.\n",
    "# As you can see, the chance is roughly 17 percent."
   ]
  },
  {
   "cell_type": "code",
   "execution_count": 18,
   "metadata": {},
   "outputs": [
    {
     "data": {
      "text/plain": [
       "(array([1.970e+02, 9.940e+02, 2.161e+03, 2.763e+03, 2.154e+03, 1.186e+03,\n",
       "        4.290e+02, 1.010e+02, 1.400e+01, 1.000e+00]),\n",
       " array([-0.5,  0.5,  1.5,  2.5,  3.5,  4.5,  5.5,  6.5,  7.5,  8.5,  9.5]),\n",
       " <a list of 10 Patch objects>)"
      ]
     },
     "execution_count": 18,
     "metadata": {},
     "output_type": "execute_result"
    },
    {
     "data": {
      "image/png": "[encoded data removed]",
      "text/plain": [
       "<Figure size 432x288 with 1 Axes>"
      ]
     },
     "metadata": {
      "needs_background": "light"
     },
     "output_type": "display_data"
    }
   ],
   "source": [
    "# Michael van Gerwen hits 35 percent of his darts in the bullseye, when aiming at it. What are the odds he throws 9 darts and does not hit any?\n",
    "mvg = np.random.binomial(9, 0.35,10000)\n",
    "bins = np.arange(0, mvg.max() + 1.5) - 0.5 # # The x-axis will run from 0 to the biggest value (+1.5) for dice6 in the 10000 trials.\n",
    "# Then 0.5 is subtracted to get the bins centered on the integers, and make the histogram more readable.\n",
    "# Used https://stackoverflow.com/questions/30112420/histogram-for-discrete-values-with-matplotlib for help on this.\n",
    "plt.hist (mvg,bins) #plot the results"
   ]
  },
  {
   "cell_type": "code",
   "execution_count": 19,
   "metadata": {},
   "outputs": [
    {
     "data": {
      "text/plain": [
       "0.0179"
      ]
     },
     "execution_count": 19,
     "metadata": {},
     "output_type": "execute_result"
    }
   ],
   "source": [
    "sum(np.random.binomial(9, 0.35, 10000) == 0)/10000 #Now I take the average of 10000 trials and display the odds.\n",
    "# It turns out the chance is close to 2 percent."
   ]
  },
  {
   "cell_type": "markdown",
   "metadata": {},
   "source": [
    "### Multinomial distribution"
   ]
  },
  {
   "cell_type": "markdown",
   "metadata": {},
   "source": [
    "This multinomial distribution is a multivariate generalisation of the binomial distribution (it uses more than 2 possible outcomes). Source: https://docs.scipy.org/doc/numpy-1.14.1/reference/generated/numpy.random.multinomial.html#numpy.random.multinomial\n",
    "A multinomial experiment needs to have four properties. It needs to consist of n trials, each trial has a discrete number of possible outcomes, the probability of the outcomes is constant, and the trials are independant.\n",
    "\n",
    "With this distribution you can easily get array's of occurences of multiple outcomes, which can then be used to calculate things further."
   ]
  },
  {
   "cell_type": "code",
   "execution_count": 20,
   "metadata": {},
   "outputs": [
    {
     "data": {
      "text/plain": [
       "array([ 9, 15,  6])"
      ]
     },
     "execution_count": 20,
     "metadata": {},
     "output_type": "execute_result"
    }
   ],
   "source": [
    "# Michael van Gerwen hits 35% of his darts he aims at the bullseye, 45% end up in the single bull, and 20% end up elsewhere.\n",
    "# He will throw 30 darts.\n",
    "np.random.multinomial(30, [0.35, 0.45, 0.2]) # 30 darts, respectively 35, 45 and 20 percent chance."
   ]
  },
  {
   "cell_type": "markdown",
   "metadata": {},
   "source": [
    "### Hypergeometric distribution"
   ]
  },
  {
   "cell_type": "markdown",
   "metadata": {},
   "source": [
    "The <em>numpy.random.hypergeometric</em> uses parameters ngood, nbad, nsample and size. Ngood is the number of ways to make a good selection, nbad the number of ways to make a bad selection. Nsample is the number of items sampled and size is the output shape. The difference with the binomial distribution is that the samples are drawn without replacement."
   ]
  },
  {
   "cell_type": "code",
   "execution_count": 21,
   "metadata": {},
   "outputs": [
    {
     "data": {
      "text/plain": [
       "(array([  0.,   0.,   0.,   0.,   0.,   0.,   0.,  17., 139., 434., 410.]),\n",
       " array([-0.5,  0.5,  1.5,  2.5,  3.5,  4.5,  5.5,  6.5,  7.5,  8.5,  9.5,\n",
       "        10.5]),\n",
       " <a list of 11 Patch objects>)"
      ]
     },
     "execution_count": 21,
     "metadata": {},
     "output_type": "execute_result"
    },
    {
     "data": {
      "image/png": "[encoded data removed]",
      "text/plain": [
       "<Figure size 432x288 with 1 Axes>"
      ]
     },
     "metadata": {
      "needs_background": "light"
     },
     "output_type": "display_data"
    }
   ],
   "source": [
    "# https://docs.scipy.org/doc/numpy-1.14.1/reference/generated/numpy.random.hypergeometric.html#numpy.random.hypergeometric\n",
    "# I am going to draw 10 cards from a standard deck, and want to know how often I am going to draw, 0, 1, 2, 3 or all 4 aces.\n",
    "noqueen = np.random.hypergeometric(48,4,10, 1000) # ngood (all non-aces) = 48, nbad(the aces)= 4, I am going to draw 10 cards, and use a 1000 samples.\n",
    "bins = np.arange(0, noqueen.max() + 1.5) - 0.5 # # The x-axis will run from 0 to the biggest value (+1.5) for dice6 in the 10000 trials.\n",
    "# Then 0.5 is subtracted to get the bins centered on the integers, and make the histogram more readable.\n",
    "plt.hist (noqueen, bins)"
   ]
  },
  {
   "cell_type": "code",
   "execution_count": 22,
   "metadata": {},
   "outputs": [
    {
     "data": {
      "text/plain": [
       "0.18628"
      ]
     },
     "execution_count": 22,
     "metadata": {},
     "output_type": "execute_result"
    }
   ],
   "source": [
    "# In my hand I now have 2 aces, and I am going to draw 5 more cards.\n",
    "# I want to know what the odds are that exactly 1 of those cards is one of the 2 remaining aces.\n",
    "sum(np.random.hypergeometric(2,48,5,100000)==1)/100000 #2 good cards, 48 bad ones, 5 cards drawn and 10000 samples. \n",
    "# Taking the average by dividing it by 100000 in the end. It turns out the chance is just over 18 percent."
   ]
  },
  {
   "cell_type": "markdown",
   "metadata": {},
   "source": [
    "### Poisson distribution"
   ]
  },
  {
   "cell_type": "markdown",
   "metadata": {},
   "source": [
    "The poisson distribution is mainly used to model the number of times an event occurs in an interval of time or space. The events have to occur with a know constant rate and independantly of the time since the last event. The <em>numpy.random.poisson</em> command takes 2 parameters. The first one being the expectation of interval and the second is the size."
   ]
  },
  {
   "cell_type": "markdown",
   "metadata": {},
   "source": [
    "I am going to use the poisson distribution to show the likeliness of <em>k</em> goals in a football match, with a goal expectancy of 2.5."
   ]
  },
  {
   "cell_type": "code",
   "execution_count": 23,
   "metadata": {},
   "outputs": [
    {
     "data": {
      "text/plain": [
       "(array([8.780e+02, 2.053e+03, 2.505e+03, 2.165e+03, 1.356e+03, 6.390e+02,\n",
       "        2.670e+02, 9.400e+01, 3.300e+01, 9.000e+00, 1.000e+00]),\n",
       " array([-0.5,  0.5,  1.5,  2.5,  3.5,  4.5,  5.5,  6.5,  7.5,  8.5,  9.5,\n",
       "        10.5]),\n",
       " <a list of 11 Patch objects>)"
      ]
     },
     "execution_count": 23,
     "metadata": {},
     "output_type": "execute_result"
    },
    {
     "data": {
      "image/png": "[encoded data removed]",
      "text/plain": [
       "<Figure size 432x288 with 1 Axes>"
      ]
     },
     "metadata": {
      "needs_background": "light"
     },
     "output_type": "display_data"
    }
   ],
   "source": [
    "# I used https://brilliant.org/wiki/poisson-distribution/ to learn about the poisson distribution\n",
    "ge = np.random.poisson(2.5, 10000) # goalexpectancy is 2.5, and I will draw 10000 samples.\n",
    "bins = np.arange(0, ge.max() + 1.5)-0.5 # # The x-axis will run from 0 to the biggest value (+1.5) for dice6 in the 10000 trials.\n",
    "# Then 0.5 is subtracted to get the bins centered on the integers, and make the histogram more readable. \n",
    "plt.hist(ge, bins)\n",
    "\n",
    "\n"
   ]
  },
  {
   "cell_type": "markdown",
   "metadata": {},
   "source": [
    "### Geometric distribution"
   ]
  },
  {
   "cell_type": "markdown",
   "metadata": {},
   "source": [
    "The geometric distribution is used to model the number of trials (Bernoulli trials with either success or failure) that were needed until success was achieved. The command <em>numpy.random.geometric</em> takes two parameters: p, the probabilty of success in a single trial, and the size.\n",
    "\n",
    "LINK: https://www.statisticshowto.datasciencecentral.com/geometric-distribution/  Onderaan zetten!"
   ]
  },
  {
   "cell_type": "markdown",
   "metadata": {},
   "source": [
    "I want to know, on average, how often I will have thrown at least 1 six, after 3 throws of the dice."
   ]
  },
  {
   "cell_type": "code",
   "execution_count": 24,
   "metadata": {},
   "outputs": [
    {
     "data": {
      "text/plain": [
       "(array([0.000e+00, 1.675e+03, 1.390e+03, 1.200e+03, 9.190e+02, 8.140e+02,\n",
       "        6.960e+02, 5.620e+02, 4.030e+02, 3.450e+02, 3.260e+02, 2.750e+02,\n",
       "        2.310e+02, 1.970e+02, 1.750e+02, 1.360e+02, 1.110e+02, 9.500e+01,\n",
       "        8.400e+01, 5.900e+01, 5.000e+01, 5.200e+01, 3.100e+01, 2.900e+01,\n",
       "        1.900e+01, 2.000e+01, 2.100e+01, 1.800e+01, 8.000e+00, 1.100e+01,\n",
       "        6.000e+00, 6.000e+00, 4.000e+00, 7.000e+00, 4.000e+00, 1.000e+00,\n",
       "        3.000e+00, 2.000e+00, 4.000e+00, 1.000e+00, 1.000e+00, 1.000e+00,\n",
       "        1.000e+00, 2.000e+00, 1.000e+00, 1.000e+00, 1.000e+00, 0.000e+00,\n",
       "        1.000e+00, 0.000e+00, 0.000e+00, 0.000e+00, 0.000e+00, 0.000e+00,\n",
       "        0.000e+00, 0.000e+00, 1.000e+00]),\n",
       " array([-0.5,  0.5,  1.5,  2.5,  3.5,  4.5,  5.5,  6.5,  7.5,  8.5,  9.5,\n",
       "        10.5, 11.5, 12.5, 13.5, 14.5, 15.5, 16.5, 17.5, 18.5, 19.5, 20.5,\n",
       "        21.5, 22.5, 23.5, 24.5, 25.5, 26.5, 27.5, 28.5, 29.5, 30.5, 31.5,\n",
       "        32.5, 33.5, 34.5, 35.5, 36.5, 37.5, 38.5, 39.5, 40.5, 41.5, 42.5,\n",
       "        43.5, 44.5, 45.5, 46.5, 47.5, 48.5, 49.5, 50.5, 51.5, 52.5, 53.5,\n",
       "        54.5, 55.5, 56.5]),\n",
       " <a list of 57 Patch objects>)"
      ]
     },
     "execution_count": 24,
     "metadata": {},
     "output_type": "execute_result"
    },
    {
     "data": {
      "image/png": "[encoded data removed]",
      "text/plain": [
       "<Figure size 432x288 with 1 Axes>"
      ]
     },
     "metadata": {
      "needs_background": "light"
     },
     "output_type": "display_data"
    }
   ],
   "source": [
    "dice6 = np.random.geometric(1/6, 10000)# 1/6 is the chance of a 6 being thrown, and I will draw 10000 samples. \n",
    "bins = np.arange(0, dice6.max() + 1.5)-0.5 # The x-axis will run from 0 to the biggest value (+1.5) for dice6 in the 10000 trials.\n",
    "# Then 0.5 is subtracted to get the bins centered on the integers, and make the histogram more readable.\n",
    "plt.hist(dice6, bins) # First, I am going to plot a histogram of the number of throws it took for a 6 to show up."
   ]
  },
  {
   "cell_type": "markdown",
   "metadata": {},
   "source": [
    "To get to the exact number, I again use the geometric distribution:"
   ]
  },
  {
   "cell_type": "code",
   "execution_count": 25,
   "metadata": {},
   "outputs": [
    {
     "data": {
      "text/plain": [
       "0.4236"
      ]
     },
     "execution_count": 25,
     "metadata": {},
     "output_type": "execute_result"
    }
   ],
   "source": [
    "success = np.random.geometric(1/6, 10000) # I call throwing a 6 'success', with odds of 1/6, and will draw 10000 samples.\n",
    "(success < 4).sum() / 10000 # calculate the odds of 'success' being achieved in less than 4 throws of the dice. Count them all up and divide by 10000 to get the mean."
   ]
  },
  {
   "cell_type": "markdown",
   "metadata": {},
   "source": [
    "## 4. The use of seeds in generating pseudorandom numbers explained"
   ]
  },
  {
   "cell_type": "markdown",
   "metadata": {},
   "source": [
    "Computers are not able to generate a really random number. When we ask them to produce a random number, they really produce a pseudorandom number. These numbers aproximate randomness, but they are produced by a definite mathematical procedure. There is a key piece of information, and if you have that you would be able to predict the output of the <em>random</em> number generator. This piece of information is the seed. The seed is decided once, and depends on the time in microseconds. It could for instance be the moment you install your python package on your computer. One of the most popular ways of generating a pseudorandom number is to use the number Pi. Pi is an endless number, and there is periodical repetition. This means there is no pattern to the numbers in Pi. Therefore it is a useful tool in generating pseudorandom numbers. A computer could generate a series of pseudorandom numbers by picking a random point in the Pi sequence and start counting from there. This point is called the <em>seed</em>, the value that is fed into a pseudorandom number generator to start the process of 'random' number generating. If you know the seed, you could potentially predict the 'random' number or numbers the computer will pick. \n",
    "Random seeds can be generated for instance from the time of the computer system, or the variance in the noise of the fan.\n",
    "'Random' seeds can be shared between systems to generate matching sequences of non-repeating numbers, which can be used for synchronizing remote systems like GPS satellites. https://en.wikipedia.org/wiki/Random_seed\n",
    "https://web.microsoftstream.com/video/db596673-6d67-4d13-93c3-074728c693f2"
   ]
  },
  {
   "cell_type": "markdown",
   "metadata": {},
   "source": [
    "Below is an example to show that if the same seed is used, the 'random' selected numbers will also be the same."
   ]
  },
  {
   "cell_type": "code",
   "execution_count": 26,
   "metadata": {},
   "outputs": [
    {
     "data": {
      "text/plain": [
       "0.7322554914782039"
      ]
     },
     "execution_count": 26,
     "metadata": {},
     "output_type": "execute_result"
    }
   ],
   "source": [
    "np.random.rand()"
   ]
  },
  {
   "cell_type": "code",
   "execution_count": 27,
   "metadata": {},
   "outputs": [
    {
     "data": {
      "text/plain": [
       "0.30478164282048537"
      ]
     },
     "execution_count": 27,
     "metadata": {},
     "output_type": "execute_result"
    }
   ],
   "source": [
    "np.random.seed(567)\n",
    "np.random.rand()"
   ]
  },
  {
   "cell_type": "code",
   "execution_count": 28,
   "metadata": {},
   "outputs": [
    {
     "data": {
      "text/plain": [
       "0.30478164282048537"
      ]
     },
     "execution_count": 28,
     "metadata": {},
     "output_type": "execute_result"
    }
   ],
   "source": [
    "np.random.seed(567)\n",
    "np.random.rand()"
   ]
  },
  {
   "cell_type": "code",
   "execution_count": 29,
   "metadata": {},
   "outputs": [
    {
     "data": {
      "text/plain": [
       "0.953032969555784"
      ]
     },
     "execution_count": 29,
     "metadata": {},
     "output_type": "execute_result"
    }
   ],
   "source": [
    "np.random.rand()"
   ]
  },
  {
   "cell_type": "markdown",
   "metadata": {},
   "source": [
    "As you can see, when just entering np.random.rand(), any number between 0 and 1 can be picked. But if the seed is provided, the exact same pseudorandom number will be displayed."
   ]
  }
 ],
 "metadata": {
  "kernelspec": {
   "display_name": "Python 3",
   "language": "python",
   "name": "python3"
  },
  "language_info": {
   "codemirror_mode": {
    "name": "ipython",
    "version": 3
   },
   "file_extension": ".py",
   "mimetype": "text/x-python",
   "name": "python",
   "nbconvert_exporter": "python",
   "pygments_lexer": "ipython3",
   "version": "3.7.1"
  }
 },
 "nbformat": 4,
 "nbformat_minor": 2
}
